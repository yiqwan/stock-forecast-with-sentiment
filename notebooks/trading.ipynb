{
 "cells": [
  {
   "cell_type": "markdown",
   "metadata": {},
   "source": [
    "# Trade\n",
    "- Swing trading/long-term trading\n",
    "    - Exposed to overnight risk (close price previous day might not equal to open \n",
    "    price next day if there are major events happening between market closure and\n",
    "    market open).\n",
    "- Assume I already have which day to long, which day to short\n",
    "- Conduct post-trade analysis\n",
    "- Refine risk management techniques (Comparing starting on 2023-12-22)\n",
    "    - Boeing: Main character in the events\n",
    "        - Stock -18.61%\n",
    "\n",
    "    - Direct competitors\n",
    "        - Airbus (EPA: AIR): Boeing's primary competitor in commercial aircraft manufacturing\n",
    "            - Stock +5.93%\n",
    "        - Lockhead Martin (LMT): More focused on defense but also compete in aerospace\n",
    "    - Suppliers\n",
    "        - General Electric (GE): Supplies engines for Boeing aircraft\n",
    "            - Have presence in aviation, healthcare, power, renewable energy\n",
    "            - Doesn't seem to be affected\n",
    "            - Can also supply engines to other aircraft manufacturers (effect on\n",
    "            stock price is complicated)\n",
    "    - Customers\n",
    "        - Alaska Airlines (ALK): Main airline involved\n",
    "            - Stock -11.73%\n",
    "        - American Airlines (UAL - NasdaqGS)\n",
    "            - Stock -4.91%\n",
    "        - Delta Air Lines (DAL)\n",
    "            - -11.73%\n",
    "        - Southwest Airlines\n",
    "- Trading timing (NYSE) vs news timing\n",
    "    - The news was updated on January 18, 2024, at 4:36 AM GMT+8, which translates to January 17, 2024, at 3:36 PM Eastern Time (since GMT+8 is 13 hours ahead of Eastern Time). Since the NYSE closes at 4:00 PM ET, this news would have come out just before the market close.\n",
    "    - Difference stock exchanges might operate at different timings also\n",
    "- No training and validation - straight go to validation (backtesting)\n",
    "\n"
   ]
  },
  {
   "cell_type": "code",
   "execution_count": 1,
   "metadata": {},
   "outputs": [
    {
     "name": "stderr",
     "output_type": "stream",
     "text": [
      "/opt/homebrew/lib/python3.11/site-packages/tqdm/auto.py:21: TqdmWarning: IProgress not found. Please update jupyter and ipywidgets. See https://ipywidgets.readthedocs.io/en/stable/user_install.html\n",
      "  from .autonotebook import tqdm as notebook_tqdm\n"
     ]
    }
   ],
   "source": [
    "import yfinance as yf\n",
    "from backtesting import Backtest, Strategy\n",
    "import pandas as pd\n",
    "import numpy as np"
   ]
  },
  {
   "cell_type": "markdown",
   "metadata": {},
   "source": [
    "Similar to download data codes"
   ]
  },
  {
   "cell_type": "code",
   "execution_count": 24,
   "metadata": {},
   "outputs": [
    {
     "name": "stdout",
     "output_type": "stream",
     "text": [
      "[*********************100%%**********************]  1 of 1 completed\n"
     ]
    },
    {
     "data": {
      "text/plain": [
       "Open      0\n",
       "High      0\n",
       "Low       0\n",
       "Close     0\n",
       "Volume    0\n",
       "dtype: int64"
      ]
     },
     "metadata": {},
     "output_type": "display_data"
    },
    {
     "data": {
      "text/plain": [
       "6"
      ]
     },
     "metadata": {},
     "output_type": "display_data"
    },
    {
     "data": {
      "text/html": [
       "<div>\n",
       "<style scoped>\n",
       "    .dataframe tbody tr th:only-of-type {\n",
       "        vertical-align: middle;\n",
       "    }\n",
       "\n",
       "    .dataframe tbody tr th {\n",
       "        vertical-align: top;\n",
       "    }\n",
       "\n",
       "    .dataframe thead th {\n",
       "        text-align: right;\n",
       "    }\n",
       "</style>\n",
       "<table border=\"1\" class=\"dataframe\">\n",
       "  <thead>\n",
       "    <tr style=\"text-align: right;\">\n",
       "      <th></th>\n",
       "      <th>Open</th>\n",
       "      <th>High</th>\n",
       "      <th>Low</th>\n",
       "      <th>Close</th>\n",
       "      <th>Volume</th>\n",
       "      <th>Sentiment</th>\n",
       "    </tr>\n",
       "    <tr>\n",
       "      <th>Date</th>\n",
       "      <th></th>\n",
       "      <th></th>\n",
       "      <th></th>\n",
       "      <th></th>\n",
       "      <th></th>\n",
       "      <th></th>\n",
       "    </tr>\n",
       "  </thead>\n",
       "  <tbody>\n",
       "    <tr>\n",
       "      <th>2024-01-04</th>\n",
       "      <td>244.580002</td>\n",
       "      <td>248.279999</td>\n",
       "      <td>244.179993</td>\n",
       "      <td>244.940002</td>\n",
       "      <td>5170700</td>\n",
       "      <td>0.0</td>\n",
       "    </tr>\n",
       "    <tr>\n",
       "      <th>2024-01-05</th>\n",
       "      <td>245.039993</td>\n",
       "      <td>250.190002</td>\n",
       "      <td>245.039993</td>\n",
       "      <td>249.000000</td>\n",
       "      <td>3846200</td>\n",
       "      <td>-1.0</td>\n",
       "    </tr>\n",
       "    <tr>\n",
       "      <th>2024-01-08</th>\n",
       "      <td>228.000000</td>\n",
       "      <td>233.850006</td>\n",
       "      <td>225.789993</td>\n",
       "      <td>229.000000</td>\n",
       "      <td>40730400</td>\n",
       "      <td>-0.8</td>\n",
       "    </tr>\n",
       "    <tr>\n",
       "      <th>2024-01-09</th>\n",
       "      <td>225.660004</td>\n",
       "      <td>228.789993</td>\n",
       "      <td>223.199997</td>\n",
       "      <td>225.759995</td>\n",
       "      <td>20687500</td>\n",
       "      <td>0.0</td>\n",
       "    </tr>\n",
       "    <tr>\n",
       "      <th>2024-01-10</th>\n",
       "      <td>226.899994</td>\n",
       "      <td>231.610001</td>\n",
       "      <td>226.639999</td>\n",
       "      <td>227.839996</td>\n",
       "      <td>12883700</td>\n",
       "      <td>0.0</td>\n",
       "    </tr>\n",
       "    <tr>\n",
       "      <th>2024-01-11</th>\n",
       "      <td>228.070007</td>\n",
       "      <td>228.279999</td>\n",
       "      <td>222.619995</td>\n",
       "      <td>222.660004</td>\n",
       "      <td>11830500</td>\n",
       "      <td>0.0</td>\n",
       "    </tr>\n",
       "  </tbody>\n",
       "</table>\n",
       "</div>"
      ],
      "text/plain": [
       "                  Open        High         Low       Close    Volume  \\\n",
       "Date                                                                   \n",
       "2024-01-04  244.580002  248.279999  244.179993  244.940002   5170700   \n",
       "2024-01-05  245.039993  250.190002  245.039993  249.000000   3846200   \n",
       "2024-01-08  228.000000  233.850006  225.789993  229.000000  40730400   \n",
       "2024-01-09  225.660004  228.789993  223.199997  225.759995  20687500   \n",
       "2024-01-10  226.899994  231.610001  226.639999  227.839996  12883700   \n",
       "2024-01-11  228.070007  228.279999  222.619995  222.660004  11830500   \n",
       "\n",
       "            Sentiment  \n",
       "Date                   \n",
       "2024-01-04        0.0  \n",
       "2024-01-05       -1.0  \n",
       "2024-01-08       -0.8  \n",
       "2024-01-09        0.0  \n",
       "2024-01-10        0.0  \n",
       "2024-01-11        0.0  "
      ]
     },
     "metadata": {},
     "output_type": "display_data"
    }
   ],
   "source": [
    "hist_start = pd.to_datetime('2024-01-04') # Historical start date\n",
    "hist_end = pd.to_datetime('2024-01-12')\n",
    "# Define the ticker list\n",
    "ticker_list = ['BA']\n",
    "\n",
    "# Fetch the data\n",
    "dl_data = yf.download(ticker_list, start=hist_start, end=hist_end) # Auto adjust is false\n",
    "\n",
    "dl_data = pd.DataFrame(dl_data)\n",
    "data = dl_data.drop(columns=['Close'], axis=1)\n",
    "data = data.rename(columns={'Adj Close': 'Close'})\n",
    "display(data.isna().sum(axis=0)) # Axis=0: along the indices, row-wise opertaion\n",
    "# Gives the sum for rows in a column\n",
    "data.index = pd.to_datetime(data.index)\n",
    "\n",
    "# TODO: Add the sentiment scores before the next market-open day\n",
    "# data['Sentiment'] = np.random.random(len(data)) * 2 - 1\n",
    "display(len(data))\n",
    "sentiment = np.array([0, -1, -0.8, 0, 0, 0]) # Put -1 on 01-05 (Before the whole thing Boeing case appeared after market closed on 01-05 to prepare to trade for 01-08)\n",
    "data['Sentiment'] = sentiment\n",
    "display(data.tail(20))\n"
   ]
  },
  {
   "cell_type": "code",
   "execution_count": 30,
   "metadata": {},
   "outputs": [
    {
     "name": "stdout",
     "output_type": "stream",
     "text": [
      "Sell on: 2024-01-05 00:00:00, Sentiment: -1.0\n"
     ]
    },
    {
     "data": {
      "text/plain": [
       "Start                     2024-01-04 00:00:00\n",
       "End                       2024-01-11 00:00:00\n",
       "Duration                      7 days 00:00:00\n",
       "Exposure Time [%]                   66.666667\n",
       "Equity Final [$]                  9999.929993\n",
       "Equity Peak [$]                  10002.240005\n",
       "Return [%]                            -0.0007\n",
       "Buy & Hold Return [%]               -9.096105\n",
       "Return (Ann.) [%]                   -0.029399\n",
       "Volatility (Ann.) [%]                0.316167\n",
       "Sharpe Ratio                              0.0\n",
       "Sortino Ratio                             0.0\n",
       "Calmar Ratio                              0.0\n",
       "Max. Drawdown [%]                   -0.023095\n",
       "Avg. Drawdown [%]                   -0.016547\n",
       "Max. Drawdown Duration        4 days 00:00:00\n",
       "Avg. Drawdown Duration        3 days 00:00:00\n",
       "# Trades                                    1\n",
       "Win Rate [%]                              0.0\n",
       "Best Trade [%]                      -0.030705\n",
       "Worst Trade [%]                     -0.030705\n",
       "Avg. Trade [%]                      -0.030705\n",
       "Max. Trade Duration           3 days 00:00:00\n",
       "Avg. Trade Duration           3 days 00:00:00\n",
       "Profit Factor                             0.0\n",
       "Expectancy [%]                      -0.030705\n",
       "SQN                                       NaN\n",
       "_strategy                   SentimentStrategy\n",
       "_equity_curve                             ...\n",
       "_trades                      Size  EntryBa...\n",
       "dtype: object"
      ]
     },
     "metadata": {},
     "output_type": "display_data"
    },
    {
     "name": "stderr",
     "output_type": "stream",
     "text": [
      "BokehDeprecationWarning: Passing lists of formats for DatetimeTickFormatter scales was deprecated in Bokeh 3.0. Configure a single string format for each scale\n",
      "/opt/homebrew/lib/python3.11/site-packages/backtesting/_plotting.py:250: UserWarning: DatetimeFormatter scales now only accept a single format. Using the first provided: '%d %b'\n",
      "  formatter=DatetimeTickFormatter(days=['%d %b', '%a %d'],\n",
      "BokehDeprecationWarning: Passing lists of formats for DatetimeTickFormatter scales was deprecated in Bokeh 3.0. Configure a single string format for each scale\n",
      "/opt/homebrew/lib/python3.11/site-packages/backtesting/_plotting.py:250: UserWarning: DatetimeFormatter scales now only accept a single format. Using the first provided: '%m/%Y'\n",
      "  formatter=DatetimeTickFormatter(days=['%d %b', '%a %d'],\n",
      "/opt/homebrew/lib/python3.11/site-packages/backtesting/_plotting.py:659: UserWarning: found multiple competing values for 'toolbar.active_drag' property; using the latest value\n",
      "  fig = gridplot(\n",
      "/opt/homebrew/lib/python3.11/site-packages/backtesting/_plotting.py:659: UserWarning: found multiple competing values for 'toolbar.active_scroll' property; using the latest value\n",
      "  fig = gridplot(\n"
     ]
    },
    {
     "data": {
      "text/html": [
       "<div style=\"display: table;\"><div style=\"display: table-row;\"><div style=\"display: table-cell;\"><b title=\"bokeh.models.plots.GridPlot\">GridPlot</b>(</div><div style=\"display: table-cell;\">id&nbsp;=&nbsp;'p5660', <span id=\"p5690\" style=\"cursor: pointer;\">&hellip;)</span></div></div><div class=\"p5689\" style=\"display: none;\"><div style=\"display: table-cell;\"></div><div style=\"display: table-cell;\">align&nbsp;=&nbsp;'auto',</div></div><div class=\"p5689\" style=\"display: none;\"><div style=\"display: table-cell;\"></div><div style=\"display: table-cell;\">aspect_ratio&nbsp;=&nbsp;None,</div></div><div class=\"p5689\" style=\"display: none;\"><div style=\"display: table-cell;\"></div><div style=\"display: table-cell;\">children&nbsp;=&nbsp;[(figure(id='p5401', ...), 0, 0), (figure(id='p5498', ...), 1, 0), (figure(id='p5357', ...), 2, 0), (figure(id='p5553', ...), 3, 0)],</div></div><div class=\"p5689\" style=\"display: none;\"><div style=\"display: table-cell;\"></div><div style=\"display: table-cell;\">cols&nbsp;=&nbsp;None,</div></div><div class=\"p5689\" style=\"display: none;\"><div style=\"display: table-cell;\"></div><div style=\"display: table-cell;\">context_menu&nbsp;=&nbsp;None,</div></div><div class=\"p5689\" style=\"display: none;\"><div style=\"display: table-cell;\"></div><div style=\"display: table-cell;\">css_classes&nbsp;=&nbsp;[],</div></div><div class=\"p5689\" style=\"display: none;\"><div style=\"display: table-cell;\"></div><div style=\"display: table-cell;\">disabled&nbsp;=&nbsp;False,</div></div><div class=\"p5689\" style=\"display: none;\"><div style=\"display: table-cell;\"></div><div style=\"display: table-cell;\">flow_mode&nbsp;=&nbsp;'block',</div></div><div class=\"p5689\" style=\"display: none;\"><div style=\"display: table-cell;\"></div><div style=\"display: table-cell;\">height&nbsp;=&nbsp;None,</div></div><div class=\"p5689\" style=\"display: none;\"><div style=\"display: table-cell;\"></div><div style=\"display: table-cell;\">height_policy&nbsp;=&nbsp;'auto',</div></div><div class=\"p5689\" style=\"display: none;\"><div style=\"display: table-cell;\"></div><div style=\"display: table-cell;\">js_event_callbacks&nbsp;=&nbsp;{},</div></div><div class=\"p5689\" style=\"display: none;\"><div style=\"display: table-cell;\"></div><div style=\"display: table-cell;\">js_property_callbacks&nbsp;=&nbsp;{},</div></div><div class=\"p5689\" style=\"display: none;\"><div style=\"display: table-cell;\"></div><div style=\"display: table-cell;\">margin&nbsp;=&nbsp;None,</div></div><div class=\"p5689\" style=\"display: none;\"><div style=\"display: table-cell;\"></div><div style=\"display: table-cell;\">max_height&nbsp;=&nbsp;None,</div></div><div class=\"p5689\" style=\"display: none;\"><div style=\"display: table-cell;\"></div><div style=\"display: table-cell;\">max_width&nbsp;=&nbsp;None,</div></div><div class=\"p5689\" style=\"display: none;\"><div style=\"display: table-cell;\"></div><div style=\"display: table-cell;\">min_height&nbsp;=&nbsp;None,</div></div><div class=\"p5689\" style=\"display: none;\"><div style=\"display: table-cell;\"></div><div style=\"display: table-cell;\">min_width&nbsp;=&nbsp;None,</div></div><div class=\"p5689\" style=\"display: none;\"><div style=\"display: table-cell;\"></div><div style=\"display: table-cell;\">name&nbsp;=&nbsp;None,</div></div><div class=\"p5689\" style=\"display: none;\"><div style=\"display: table-cell;\"></div><div style=\"display: table-cell;\">resizable&nbsp;=&nbsp;False,</div></div><div class=\"p5689\" style=\"display: none;\"><div style=\"display: table-cell;\"></div><div style=\"display: table-cell;\">rows&nbsp;=&nbsp;None,</div></div><div class=\"p5689\" style=\"display: none;\"><div style=\"display: table-cell;\"></div><div style=\"display: table-cell;\">sizing_mode&nbsp;=&nbsp;'stretch_width',</div></div><div class=\"p5689\" style=\"display: none;\"><div style=\"display: table-cell;\"></div><div style=\"display: table-cell;\">spacing&nbsp;=&nbsp;0,</div></div><div class=\"p5689\" style=\"display: none;\"><div style=\"display: table-cell;\"></div><div style=\"display: table-cell;\">styles&nbsp;=&nbsp;{},</div></div><div class=\"p5689\" style=\"display: none;\"><div style=\"display: table-cell;\"></div><div style=\"display: table-cell;\">stylesheets&nbsp;=&nbsp;[],</div></div><div class=\"p5689\" style=\"display: none;\"><div style=\"display: table-cell;\"></div><div style=\"display: table-cell;\">subscribed_events&nbsp;=&nbsp;PropertyValueSet(),</div></div><div class=\"p5689\" style=\"display: none;\"><div style=\"display: table-cell;\"></div><div style=\"display: table-cell;\">syncable&nbsp;=&nbsp;True,</div></div><div class=\"p5689\" style=\"display: none;\"><div style=\"display: table-cell;\"></div><div style=\"display: table-cell;\">tags&nbsp;=&nbsp;[],</div></div><div class=\"p5689\" style=\"display: none;\"><div style=\"display: table-cell;\"></div><div style=\"display: table-cell;\">toolbar&nbsp;=&nbsp;Toolbar(id='p5659', ...),</div></div><div class=\"p5689\" style=\"display: none;\"><div style=\"display: table-cell;\"></div><div style=\"display: table-cell;\">toolbar_location&nbsp;=&nbsp;'right',</div></div><div class=\"p5689\" style=\"display: none;\"><div style=\"display: table-cell;\"></div><div style=\"display: table-cell;\">visible&nbsp;=&nbsp;True,</div></div><div class=\"p5689\" style=\"display: none;\"><div style=\"display: table-cell;\"></div><div style=\"display: table-cell;\">width&nbsp;=&nbsp;None,</div></div><div class=\"p5689\" style=\"display: none;\"><div style=\"display: table-cell;\"></div><div style=\"display: table-cell;\">width_policy&nbsp;=&nbsp;'auto')</div></div></div>\n",
       "<script>\n",
       "(function() {\n",
       "  let expanded = false;\n",
       "  const ellipsis = document.getElementById(\"p5690\");\n",
       "  ellipsis.addEventListener(\"click\", function() {\n",
       "    const rows = document.getElementsByClassName(\"p5689\");\n",
       "    for (let i = 0; i < rows.length; i++) {\n",
       "      const el = rows[i];\n",
       "      el.style.display = expanded ? \"none\" : \"table-row\";\n",
       "    }\n",
       "    ellipsis.innerHTML = expanded ? \"&hellip;)\" : \"&lsaquo;&lsaquo;&lsaquo;\";\n",
       "    expanded = !expanded;\n",
       "  });\n",
       "})();\n",
       "</script>\n"
      ],
      "text/plain": [
       "GridPlot(id='p5660', ...)"
      ]
     },
     "execution_count": 30,
     "metadata": {},
     "output_type": "execute_result"
    }
   ],
   "source": [
    "\n",
    "# Assume your data includes 'Open', 'Close', and 'Sentiment' columns\n",
    "# data = pd.read_csv('your_stock_data.csv', parse_dates=True, index_col='Date')\n",
    "\n",
    "class SentimentStrategy(Strategy):\n",
    "    def init(self):\n",
    "        super().init()\n",
    "        # Initialize additional indicators here if needed\n",
    "\n",
    "    def next(self):\n",
    "        current_sentiment = self.data.Sentiment[-1]\n",
    "        \n",
    "        # Adding a hold condition\n",
    "        if -0.2 <= current_sentiment <= 0.2:\n",
    "            return  # Hold if sentiment is within the range\n",
    "\n",
    "        # Checking trade size (adjust as needed)\n",
    "        trade_size = 1  # Example trade size, adjust based on your strategy\n",
    "\n",
    "        # Trading logic based on sentiment score\n",
    "        if current_sentiment > 0.8:  # Threshold for going long\n",
    "            if not self.position or self.position.is_short:\n",
    "                self.position.close()  # Close short position if any\n",
    "                self.buy(size=trade_size)\n",
    "                print(f\"Buy on: {self.data.index[-1]}, Sentiment: {self.data.Sentiment[-1]}\")\n",
    "        elif current_sentiment < -0.8:  # Threshold for going short\n",
    "            if not self.position or self.position.is_long:\n",
    "                self.position.close()  # Close long position if any\n",
    "                self.sell(size=trade_size)\n",
    "                print(f\"Sell on: {self.data.index[-1]}, Sentiment: {self.data.Sentiment[-1]}\")\n",
    "\n",
    "# Additional considerations\n",
    "# 1. Slippage: Incorporate slippage into your trades, if your backtesting framework allows.\n",
    "# 2. Execution Price: Decide whether to execute at the current day's close or the next day's open.\n",
    "# 3. Risk Management: Implement risk management strategies like stop-loss orders.\n",
    "\n",
    "# Running the backtest\n",
    "bt = Backtest(data, SentimentStrategy, cash=10000, commission=.0) # TODO: Adjust commission\n",
    "stats = bt.run()\n",
    "display(stats)\n",
    "bt.plot()\n",
    "\n",
    "# TODO: Change to use close instead of open, change html location"
   ]
  }
 ],
 "metadata": {
  "kernelspec": {
   "display_name": "Python 3",
   "language": "python",
   "name": "python3"
  },
  "language_info": {
   "codemirror_mode": {
    "name": "ipython",
    "version": 3
   },
   "file_extension": ".py",
   "mimetype": "text/x-python",
   "name": "python",
   "nbconvert_exporter": "python",
   "pygments_lexer": "ipython3",
   "version": "3.11.3"
  }
 },
 "nbformat": 4,
 "nbformat_minor": 2
}
