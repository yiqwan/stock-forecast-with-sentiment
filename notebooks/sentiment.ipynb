{
 "cells": [
  {
   "cell_type": "code",
   "execution_count": 13,
   "metadata": {},
   "outputs": [],
   "source": [
    "import os\n",
    "import requests\n",
    "import re\n",
    "from textblob import TextBlob\n",
    "import nltk\n",
    "from nltk.sentiment.vader import SentimentIntensityAnalyzer\n",
    "from transformers import BertTokenizer, BertForSequenceClassification, pipeline\n",
    "from GoogleNews import GoogleNews\n"
   ]
  },
  {
   "cell_type": "code",
   "execution_count": 2,
   "metadata": {},
   "outputs": [],
   "source": [
    "SUBJECTIVITY_API_KEY = os.environ.get('SUBJECTIVITY_API_KEY')\n",
    "POLARITY_API_KEY = os.environ.get('POLARITY_API_KEY')\n",
    "INTENSITY_API_KEY = os.environ.get('INTENSITY_API_KEY')\n"
   ]
  },
  {
   "cell_type": "markdown",
   "metadata": {},
   "source": [
    "- Notes from prof\n",
    "    - here is a sample use for English: sentic.net/api/en/KEY.py?text=senticnet+is+pretty+cool\n",
    "\n",
    "    - input text does not require any special formatting so feel free to use spaces instead of '+' or '%20'\n",
    "\n",
    "    - ampersand, hashtag, semicolons, and braces ('&', '#', ';', '{', '}'), however, are illegal characters\n",
    "\n",
    "    - hence, they should be replaced with colons (':') or removed entirely in the preprocessing phase\n",
    "\n",
    "    - please note that:\n",
    "\n",
    "    - 1) API keys are case-sensitive\n",
    "\n",
    "    - 2) API keys will be valid for about one month\n",
    "\n",
    "    - 3) API keys are personal and confidential\n",
    "\n",
    "    - do not share nor use them from different devices or IP addresses\n",
    "\n",
    "    - or else they will get terminated earlier\n",
    "\n",
    "    - the capacity limit for our server is 8000 characters \n",
    "\n",
    "    - so our recommendation is to cap your input at about 1000 words\n",
    "\n",
    "    - if you need to process bigger texts, you will have to split them into smaller parts\n",
    "\n",
    "    - this is also a good idea in case you want to perform a finer-grained analysis of your input\n",
    "\n",
    "    - all APIs, in fact, are designed to give you an overall judgement about the whole input\n",
    "\n",
    "    - for more details, split your text into paragraphs or sentences and feed them to the API one by one"
   ]
  },
  {
   "cell_type": "code",
   "execution_count": 12,
   "metadata": {},
   "outputs": [
    {
     "data": {
      "text/plain": [
       "'\\nThe latest black eye for Boeing\\'s top-selling 737 MAX aircraft occurred Friday when a cabin panel blowout forced an Alaska Airlines (ALK.N) flight to make an emergency landing.\\nU.S. regulators ordered a temporary grounding of certain planes for safety checks. That\\'s not as severe a move as the grounding of all MAX-family jets worldwide nearly five years ago following a pair of fatal crashes.\\n\\nHere is a timeline of recent issues surrounding Boeing\\'s (BA.N) MAX planes:\\n\\nOCTOBER 2018: A Lion Air MAX plane crashes in Indonesia, killing all 189 people on board.\\n\\nNOVEMBER 2018: The FAA and Boeing say they are evaluating the need for software or design changes to 737 MAX jets following the Lion Air crash.\\n\\nMARCH 2019: An Ethiopian Airlines MAX crashes, killing all 157 people on board. China\\'s aviation regulator becomes the first in the world to ground the MAX, followed by others including the U.S. Federal Aviation Administration.\\n\\n\\nAPRIL 2019: The FAA forms an international team to review the safety of the 737 MAX. Boeing cuts monthly production by nearly 20%.\\n\\nJULY 2019: Boeing posts its largest-ever quarterly loss.\\n\\nSEPTEMBER 2019: Boeing\\'s board of directors creates a permanent safety committee to oversee development, manufacturing and operation of its aircraft.\\n\\nOCTOBER 2019: Boeing fires Kevin McAllister, the top executive of its commercial airplanes division.\\n\\n\\nDECEMBER 2020: The company fires CEO Dennis Muilenburg in the wake of the twin crashes.\\n\\nJANUARY 2020: Boeing suspends 737 production, its biggest assembly-line halt in more than 20 years.\\n\\nMAY 2020: Boeing resumes 737 MAX production at a \"low rate.\"\\n\\nJUNE 2020: Boeing begins a series of long-delayed flight tests of its redesigned 737 MAX with regulators at the controls.\\n\\nSEPTEMBER 2020: An 18-month investigation by a U.S. House of Representatives panel finds Boeing failed in its design and development of the MAX as well as its transparency with the FAA, and that the FAA failed in oversight and certification.\\n\\nNOVEMBER 2020: The U.S. FAA lifts the grounding order, allowing the 737 MAX to fly again.\\n\\nDECEMBER 2020: Congress passes legislation to reform how the FAA certifies new airplanes, including requiring manufacturers to disclose certain safety-critical information to the FAA.\\n\\nJANUARY 2021: The European Union Aviation Safety Agency approves the MAX\\'s return to service in Europe.\\n\\nMARCH 2021: China\\'s aviation regulator says major safety concerns with the MAX needed to be \"properly addressed\" before conducting flight tests.\\n\\nAPRIL 2021: Boeing halts 737 MAX deliveries after electrical problems re-ground part of the fleet.\\nNOVEMBER 2021: Current and former Boeing company directors reach a $237.5 million settlement with shareholders to settle lawsuits over safety oversight of the 737 MAX.\\n\\nOCTOBER 2022: The FAA tells Boeing that some key documents submitted as part of the certification review of the 737 MAX 7 are incomplete and others need a reassessment.\\n\\nDECEMBER 2022: Congress agrees to extend a deadline for new standards for modern cockpit alerts stemming from the 2020 legislation after intense lobbying from Boeing.\\n\\nAPRIL 2023: Boeing pauses deliveries of some 737 MAXs to deal with a new supplier quality problem involving noncompliant fittings.\\nJULY 2023: Boeing\\'s first delivery of the 737 MAX 7 is delayed to 2024.\\n\\nAUGUST 2023: Boeing identifies a new 737 MAX supplier quality problem involving improperly drilled holes on the aft pressure bulkhead.\\n\\nSEPTEMBER 2023: Boeing 737 MAX deliveries fall to their lowest levels since August 2021.\\nDECEMBER 2023: Boeing makes its first direct delivery of a 787 Dreamliner to China since 2019, seen as a precursor to China potentially unfreezing deliveries of the 737 MAX.\\nJANUARY 2024: An Alaskan Air flight is forced to conduct an emergency landing after a cabin panel blowout on a brand-new 737 MAX 9 plane. The U.S. FAA grounds certain 737 MAX 9 aircraft for safety checks.\\n'"
      ]
     },
     "metadata": {},
     "output_type": "display_data"
    },
    {
     "data": {
      "text/plain": [
       "[\"The latest black eye for Boeing's top-selling 737 MAX aircraft occurred Friday when a cabin panel blowout forced an Alaska Airlines (ALK.N) flight to make an emergency landing.\",\n",
       " \"U.S. regulators ordered a temporary grounding of certain planes for safety checks. That's not as severe a move as the grounding of all MAX-family jets worldwide nearly five years ago following a pair of fatal crashes.\",\n",
       " \"Here is a timeline of recent issues surrounding Boeing's (BA.N) MAX planes:\",\n",
       " 'OCTOBER 2018: A Lion Air MAX plane crashes in Indonesia, killing all 189 people on board.',\n",
       " 'NOVEMBER 2018: The FAA and Boeing say they are evaluating the need for software or design changes to 737 MAX jets following the Lion Air crash.',\n",
       " \"MARCH 2019: An Ethiopian Airlines MAX crashes, killing all 157 people on board. China's aviation regulator becomes the first in the world to ground the MAX, followed by others including the U.S. Federal Aviation Administration.\",\n",
       " 'APRIL 2019: The FAA forms an international team to review the safety of the 737 MAX. Boeing cuts monthly production by nearly 20%.',\n",
       " 'JULY 2019: Boeing posts its largest-ever quarterly loss.',\n",
       " \"SEPTEMBER 2019: Boeing's board of directors creates a permanent safety committee to oversee development, manufacturing and operation of its aircraft.\",\n",
       " 'OCTOBER 2019: Boeing fires Kevin McAllister, the top executive of its commercial airplanes division.',\n",
       " 'DECEMBER 2020: The company fires CEO Dennis Muilenburg in the wake of the twin crashes.',\n",
       " 'JANUARY 2020: Boeing suspends 737 production, its biggest assembly-line halt in more than 20 years.',\n",
       " 'MAY 2020: Boeing resumes 737 MAX production at a \"low rate.\"',\n",
       " 'JUNE 2020: Boeing begins a series of long-delayed flight tests of its redesigned 737 MAX with regulators at the controls.',\n",
       " 'SEPTEMBER 2020: An 18-month investigation by a U.S. House of Representatives panel finds Boeing failed in its design and development of the MAX as well as its transparency with the FAA, and that the FAA failed in oversight and certification.',\n",
       " 'NOVEMBER 2020: The U.S. FAA lifts the grounding order, allowing the 737 MAX to fly again.',\n",
       " 'DECEMBER 2020: Congress passes legislation to reform how the FAA certifies new airplanes, including requiring manufacturers to disclose certain safety-critical information to the FAA.',\n",
       " \"JANUARY 2021: The European Union Aviation Safety Agency approves the MAX's return to service in Europe.\",\n",
       " 'MARCH 2021: China\\'s aviation regulator says major safety concerns with the MAX needed to be \"properly addressed\" before conducting flight tests.',\n",
       " 'APRIL 2021: Boeing halts 737 MAX deliveries after electrical problems re-ground part of the fleet.',\n",
       " 'NOVEMBER 2021: Current and former Boeing company directors reach a $237.5 million settlement with shareholders to settle lawsuits over safety oversight of the 737 MAX.',\n",
       " 'OCTOBER 2022: The FAA tells Boeing that some key documents submitted as part of the certification review of the 737 MAX 7 are incomplete and others need a reassessment.',\n",
       " 'DECEMBER 2022: Congress agrees to extend a deadline for new standards for modern cockpit alerts stemming from the 2020 legislation after intense lobbying from Boeing.',\n",
       " 'APRIL 2023: Boeing pauses deliveries of some 737 MAXs to deal with a new supplier quality problem involving noncompliant fittings.',\n",
       " \"JULY 2023: Boeing's first delivery of the 737 MAX 7 is delayed to 2024.\",\n",
       " 'AUGUST 2023: Boeing identifies a new 737 MAX supplier quality problem involving improperly drilled holes on the aft pressure bulkhead.',\n",
       " 'SEPTEMBER 2023: Boeing 737 MAX deliveries fall to their lowest levels since August 2021.',\n",
       " 'DECEMBER 2023: Boeing makes its first direct delivery of a 787 Dreamliner to China since 2019, seen as a precursor to China potentially unfreezing deliveries of the 737 MAX.',\n",
       " 'JANUARY 2024: An Alaskan Air flight is forced to conduct an emergency landing after a cabin panel blowout on a brand-new 737 MAX 9 plane. The U.S. FAA grounds certain 737 MAX 9 aircraft for safety checks.']"
      ]
     },
     "execution_count": 12,
     "metadata": {},
     "output_type": "execute_result"
    }
   ],
   "source": [
    "news_txt = \"\"\"\n",
    "The latest black eye for Boeing's top-selling 737 MAX aircraft occurred Friday when a cabin panel blowout forced an Alaska Airlines (ALK.N) flight to make an emergency landing.\n",
    "U.S. regulators ordered a temporary grounding of certain planes for safety checks. That's not as severe a move as the grounding of all MAX-family jets worldwide nearly five years ago following a pair of fatal crashes.\n",
    "\n",
    "Here is a timeline of recent issues surrounding Boeing's (BA.N) MAX planes:\n",
    "Advertisement · Scroll to continue\n",
    "OCTOBER 2018: A Lion Air MAX plane crashes in Indonesia, killing all 189 people on board.\n",
    "\n",
    "NOVEMBER 2018: The FAA and Boeing say they are evaluating the need for software or design changes to 737 MAX jets following the Lion Air crash.\n",
    "\n",
    "MARCH 2019: An Ethiopian Airlines MAX crashes, killing all 157 people on board. China's aviation regulator becomes the first in the world to ground the MAX, followed by others including the U.S. Federal Aviation Administration.\n",
    "\n",
    "Advertisement · Scroll to continue\n",
    "APRIL 2019: The FAA forms an international team to review the safety of the 737 MAX. Boeing cuts monthly production by nearly 20%.\n",
    "\n",
    "JULY 2019: Boeing posts its largest-ever quarterly loss.\n",
    "\n",
    "SEPTEMBER 2019: Boeing's board of directors creates a permanent safety committee to oversee development, manufacturing and operation of its aircraft.\n",
    "\n",
    "OCTOBER 2019: Boeing fires Kevin McAllister, the top executive of its commercial airplanes division.\n",
    "\n",
    "Advertisement · Scroll to continue\n",
    "DECEMBER 2020: The company fires CEO Dennis Muilenburg in the wake of the twin crashes.\n",
    "\n",
    "JANUARY 2020: Boeing suspends 737 production, its biggest assembly-line halt in more than 20 years.\n",
    "\n",
    "MAY 2020: Boeing resumes 737 MAX production at a \"low rate.\"\n",
    "\n",
    "JUNE 2020: Boeing begins a series of long-delayed flight tests of its redesigned 737 MAX with regulators at the controls.\n",
    "\n",
    "SEPTEMBER 2020: An 18-month investigation by a U.S. House of Representatives panel finds Boeing failed in its design and development of the MAX as well as its transparency with the FAA, and that the FAA failed in oversight and certification.\n",
    "\n",
    "NOVEMBER 2020: The U.S. FAA lifts the grounding order, allowing the 737 MAX to fly again.\n",
    "\n",
    "DECEMBER 2020: Congress passes legislation to reform how the FAA certifies new airplanes, including requiring manufacturers to disclose certain safety-critical information to the FAA.\n",
    "\n",
    "JANUARY 2021: The European Union Aviation Safety Agency approves the MAX's return to service in Europe.\n",
    "\n",
    "MARCH 2021: China's aviation regulator says major safety concerns with the MAX needed to be \"properly addressed\" before conducting flight tests.\n",
    "\n",
    "APRIL 2021: Boeing halts 737 MAX deliveries after electrical problems re-ground part of the fleet.\n",
    "NOVEMBER 2021: Current and former Boeing company directors reach a $237.5 million settlement with shareholders to settle lawsuits over safety oversight of the 737 MAX.\n",
    "\n",
    "OCTOBER 2022: The FAA tells Boeing that some key documents submitted as part of the certification review of the 737 MAX 7 are incomplete and others need a reassessment.\n",
    "\n",
    "DECEMBER 2022: Congress agrees to extend a deadline for new standards for modern cockpit alerts stemming from the 2020 legislation after intense lobbying from Boeing.\n",
    "\n",
    "APRIL 2023: Boeing pauses deliveries of some 737 MAXs to deal with a new supplier quality problem involving noncompliant fittings.\n",
    "JULY 2023: Boeing's first delivery of the 737 MAX 7 is delayed to 2024.\n",
    "\n",
    "AUGUST 2023: Boeing identifies a new 737 MAX supplier quality problem involving improperly drilled holes on the aft pressure bulkhead.\n",
    "\n",
    "SEPTEMBER 2023: Boeing 737 MAX deliveries fall to their lowest levels since August 2021.\n",
    "DECEMBER 2023: Boeing makes its first direct delivery of a 787 Dreamliner to China since 2019, seen as a precursor to China potentially unfreezing deliveries of the 737 MAX.\n",
    "JANUARY 2024: An Alaskan Air flight is forced to conduct an emergency landing after a cabin panel blowout on a brand-new 737 MAX 9 plane. The U.S. FAA grounds certain 737 MAX 9 aircraft for safety checks.\n",
    "\"\"\"\n",
    "\n",
    "char_limit = 8000\n",
    "# Remove invalid characters for API\n",
    "news_txt2 = re.sub(r'[&#;{}]', '', news_txt)\n",
    "\n",
    "# Remove advertisement-like texts\n",
    "news_txt3 = re.sub(r'Advertisement · Scroll to continue', '', news_txt2)\n",
    "display(news_txt3)\n",
    "\n",
    "# paragraph.strip() does not include '' in the new list\n",
    "# Removes leading and trailing white spaces\n",
    "passages2 = [paragraph.strip() for paragraph in news_txt3.split('\\n') if paragraph.strip()]\n",
    "\n",
    "# Split based on 8000 characters\n",
    "# passages = [news_txt3[i: i + char_limit] for i in range(0, len(news_txt3), char_limit)]\n",
    "\n",
    "passages2"
   ]
  },
  {
   "cell_type": "markdown",
   "metadata": {},
   "source": [
    "# Sentiment analysis\n",
    "- SenticNet\n",
    "- TextBlob\n",
    "- nltk\n",
    "- BERT\n",
    "\n",
    "TODO:\n",
    "- Check whether need to unify the results\n",
    "- Not included subjectivity yet"
   ]
  },
  {
   "cell_type": "code",
   "execution_count": 4,
   "metadata": {},
   "outputs": [
    {
     "data": {
      "text/plain": [
       "'POSITIVE'"
      ]
     },
     "metadata": {},
     "output_type": "display_data"
    },
    {
     "data": {
      "text/plain": [
       "'55'"
      ]
     },
     "metadata": {},
     "output_type": "display_data"
    },
    {
     "data": {
      "text/plain": [
       "'SUBJECTIVE'"
      ]
     },
     "metadata": {},
     "output_type": "display_data"
    }
   ],
   "source": [
    "# number of tweets pass through API\n",
    "\n",
    "def analyse(text, LANG, KEY):\n",
    "    APIURL = 'https://sentic.net/api/' + LANG + '/' + KEY + '.py?text='\n",
    "    \n",
    "    # label is the concept, polarity that is returned from API\n",
    "    label = str(requests.get(APIURL + text).content)[2:-3]\n",
    "    return label\n",
    "\n",
    "res1 = analyse(passages2[3], 'en', POLARITY_API_KEY)\n",
    "res2 = analyse(passages2[5], 'en', INTENSITY_API_KEY)\n",
    "res3 = analyse(passages2[8], 'en', SUBJECTIVITY_API_KEY)\n",
    "\n",
    "display(res1, res2, res3)\n",
    "\n"
   ]
  },
  {
   "cell_type": "code",
   "execution_count": 5,
   "metadata": {},
   "outputs": [
    {
     "name": "stdout",
     "output_type": "stream",
     "text": [
      "Polarity: 0.0\n",
      "Subjectivity: 0.0\n"
     ]
    }
   ],
   "source": [
    "sentence = 'OCTOBER 2018: A Lion Air MAX plane crashes in Indonesia, killing all 189 people on board.'\n",
    "\n",
    "blob = TextBlob(sentence)\n",
    "polarity = blob.sentiment.polarity\n",
    "subjectivity = blob.sentiment.subjectivity\n",
    "\n",
    "print(f\"Polarity: {polarity}\")\n",
    "print(f\"Subjectivity: {subjectivity}\")"
   ]
  },
  {
   "cell_type": "code",
   "execution_count": 6,
   "metadata": {},
   "outputs": [
    {
     "name": "stdout",
     "output_type": "stream",
     "text": [
      "{'neg': 0.239, 'neu': 0.761, 'pos': 0.0, 'compound': -0.6597}\n"
     ]
    }
   ],
   "source": [
    "\n",
    "\n",
    "# nltk.download('vader_lexicon')  # Download the VADER lexicon if not already downloaded\n",
    "\n",
    "sentence = 'OCTOBER 2018: A Lion Air MAX plane crashes in Indonesia, killing all 189 people on board.'\n",
    "\n",
    "sid = SentimentIntensityAnalyzer()\n",
    "sentiment_scores = sid.polarity_scores(sentence)\n",
    "\n",
    "print(sentiment_scores)\n",
    "\n",
    "# VADER compound score: https://stackoverflow.com/questions/40325980/how-is-the-vader-compound-polarity-score-calculated-in-python-nltk"
   ]
  },
  {
   "cell_type": "code",
   "execution_count": 11,
   "metadata": {},
   "outputs": [
    {
     "name": "stderr",
     "output_type": "stream",
     "text": [
      "config.json: 100%|██████████| 953/953 [00:00<00:00, 1.35MB/s]\n",
      "pytorch_model.bin: 100%|██████████| 669M/669M [00:11<00:00, 59.6MB/s] \n",
      "/opt/homebrew/lib/python3.11/site-packages/torch/_utils.py:831: UserWarning: TypedStorage is deprecated. It will be removed in the future and UntypedStorage will be the only storage class. This should only matter to you if you are using storages directly.  To access UntypedStorage directly, use tensor.untyped_storage() instead of tensor.storage()\n",
      "  return self.fget.__get__(instance, owner)()\n",
      "tokenizer_config.json: 100%|██████████| 39.0/39.0 [00:00<00:00, 877B/s]\n",
      "vocab.txt: 100%|██████████| 872k/872k [00:00<00:00, 1.54MB/s]\n",
      "special_tokens_map.json: 100%|██████████| 112/112 [00:00<00:00, 284kB/s]\n"
     ]
    },
    {
     "name": "stdout",
     "output_type": "stream",
     "text": [
      "[{'label': '1 star', 'score': 0.8441336154937744}]\n"
     ]
    }
   ],
   "source": [
    "from transformers import pipeline\n",
    "\n",
    "# Load the sentiment analysis pipeline with the chosen BERT model\n",
    "model_name = \"nlptown/bert-base-multilingual-uncased-sentiment\"\n",
    "sentiment_analysis = pipeline(\"sentiment-analysis\", model=model_name)\n",
    "\n",
    "# Example sentence\n",
    "sentence = 'OCTOBER 2018: A Lion Air MAX plane crashes in Indonesia, killing all 189 people on board.'\n",
    "\n",
    "# Get sentiment prediction\n",
    "result = sentiment_analysis(sentence)\n",
    "\n",
    "# Print the result\n",
    "print(result)\n",
    "\n",
    "# label is 1 to 5 stars. 1 is very negative, 5 is very positive\n",
    "# Score is the confidence, between 0 to 1"
   ]
  }
 ],
 "metadata": {
  "kernelspec": {
   "display_name": "Python 3",
   "language": "python",
   "name": "python3"
  },
  "language_info": {
   "codemirror_mode": {
    "name": "ipython",
    "version": 3
   },
   "file_extension": ".py",
   "mimetype": "text/x-python",
   "name": "python",
   "nbconvert_exporter": "python",
   "pygments_lexer": "ipython3",
   "version": "3.11.3"
  }
 },
 "nbformat": 4,
 "nbformat_minor": 2
}
