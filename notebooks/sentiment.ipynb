{
 "cells": [
  {
   "cell_type": "code",
   "execution_count": null,
   "metadata": {},
   "outputs": [],
   "source": [
    "\n",
    "\n",
    "from utils import path\n"
   ]
  },
  {
   "cell_type": "code",
   "execution_count": 54,
   "metadata": {},
   "outputs": [],
   "source": [
    "import os\n",
    "import requests\n",
    "import re\n",
    "from textblob import TextBlob\n",
    "import nltk\n",
    "from nltk.sentiment.vader import SentimentIntensityAnalyzer\n",
    "from transformers import BertTokenizer, BertForSequenceClassification, pipeline\n",
    "import finnhub\n",
    "from dotenv import load_dotenv\n",
    "from pathlib import Path    \n",
    "import pandas as pd\n",
    "import datetime\n",
    "from bs4 import BeautifulSoup\n",
    "import sys\n",
    "sys.path.append('../') # Change the python path at runtime\n",
    "\n",
    "# Self-created modules\n",
    "from src.utils import path\n",
    "\n"
   ]
  },
  {
   "cell_type": "markdown",
   "metadata": {},
   "source": [
    "# Set up Variables"
   ]
  },
  {
   "cell_type": "code",
   "execution_count": 16,
   "metadata": {},
   "outputs": [],
   "source": [
    "load_dotenv()\n",
    "\n",
    "SUBJECTIVITY_API_KEY = os.environ.get('SUBJECTIVITY_API_KEY')\n",
    "POLARITY_API_KEY = os.environ.get('POLARITY_API_KEY')\n",
    "INTENSITY_API_KEY = os.environ.get('INTENSITY_API_KEY')\n",
    "FINNHUB_API_KEY = os.environ.get('FINNHUB_API_KEY')"
   ]
  },
  {
   "cell_type": "code",
   "execution_count": 33,
   "metadata": {},
   "outputs": [],
   "source": [
    "BACKTEST_START_DATE = '2023-11-01'\n",
    "BACKTEST_END_DATE = '2024-01-31'"
   ]
  },
  {
   "cell_type": "markdown",
   "metadata": {},
   "source": [
    "# Finnhub API"
   ]
  },
  {
   "cell_type": "markdown",
   "metadata": {},
   "source": [
    "- Finnhub API\n",
    "https://finnhub.io/docs/api/company-news"
   ]
  },
  {
   "cell_type": "markdown",
   "metadata": {},
   "source": []
  },
  {
   "cell_type": "markdown",
   "metadata": {},
   "source": [
    "# Fetch News Data"
   ]
  },
  {
   "cell_type": "code",
   "execution_count": 34,
   "metadata": {},
   "outputs": [],
   "source": [
    "finnhub_client = finnhub.Client(api_key=FINNHUB_API_KEY)\n",
    "\n",
    "# print(finnhub_client.general_news('general', min_id=0))\n",
    "\n",
    "# Need to use _from instead of from to avoid conflict\n",
    "\n",
    "# news_resp = finnhub_client.company_news('BA', \n",
    "#                                         _from=BACKTEST_START_DATE, \n",
    "#                                         to=BACKTEST_END_DATE)\n",
    "\n",
    "# TODO: Explore\n",
    "# Company Peers\n",
    "# print(finnhub_client.company_peers('AAPL'))"
   ]
  },
  {
   "cell_type": "code",
   "execution_count": 63,
   "metadata": {},
   "outputs": [
    {
     "data": {
      "text/html": [
       "<div>\n",
       "<style scoped>\n",
       "    .dataframe tbody tr th:only-of-type {\n",
       "        vertical-align: middle;\n",
       "    }\n",
       "\n",
       "    .dataframe tbody tr th {\n",
       "        vertical-align: top;\n",
       "    }\n",
       "\n",
       "    .dataframe thead th {\n",
       "        text-align: right;\n",
       "    }\n",
       "</style>\n",
       "<table border=\"1\" class=\"dataframe\">\n",
       "  <thead>\n",
       "    <tr style=\"text-align: right;\">\n",
       "      <th></th>\n",
       "      <th>Unnamed: 0</th>\n",
       "      <th>category</th>\n",
       "      <th>datetime</th>\n",
       "      <th>headline</th>\n",
       "      <th>id</th>\n",
       "      <th>image</th>\n",
       "      <th>related</th>\n",
       "      <th>source</th>\n",
       "      <th>summary</th>\n",
       "      <th>url</th>\n",
       "    </tr>\n",
       "  </thead>\n",
       "  <tbody>\n",
       "    <tr>\n",
       "      <th>0</th>\n",
       "      <td>0</td>\n",
       "      <td>company</td>\n",
       "      <td>1706743226</td>\n",
       "      <td>UPDATE 1-US FAA says Boeing 737 audit will rev...</td>\n",
       "      <td>125468439</td>\n",
       "      <td>https://s.yimg.com/cv/apiv2/social/images/yaho...</td>\n",
       "      <td>BA</td>\n",
       "      <td>Yahoo</td>\n",
       "      <td>The Federal Aviation Administration said on We...</td>\n",
       "      <td>https://finnhub.io/api/news?id=3c9f0ede6c5e041...</td>\n",
       "    </tr>\n",
       "    <tr>\n",
       "      <th>1</th>\n",
       "      <td>1</td>\n",
       "      <td>company</td>\n",
       "      <td>1706741163</td>\n",
       "      <td>ROSEN, TRUSTED INVESTOR COUNSEL, Encourages Th...</td>\n",
       "      <td>125443555</td>\n",
       "      <td>NaN</td>\n",
       "      <td>BA</td>\n",
       "      <td>Finnhub</td>\n",
       "      <td>NEW YORK, Jan. 31, 2024 /PRNewswire/ --  WHY: ...</td>\n",
       "      <td>https://finnhub.io/api/news?id=ca83085b0a7e26b...</td>\n",
       "    </tr>\n",
       "    <tr>\n",
       "      <th>2</th>\n",
       "      <td>2</td>\n",
       "      <td>company</td>\n",
       "      <td>1706740216</td>\n",
       "      <td>Boeing (BA) Q4 2023 Earnings Call Transcript</td>\n",
       "      <td>125468440</td>\n",
       "      <td>https://g.foolcdn.com/editorial/images/1/featu...</td>\n",
       "      <td>BA</td>\n",
       "      <td>Yahoo</td>\n",
       "      <td>BA earnings call for the period ending Decembe...</td>\n",
       "      <td>https://finnhub.io/api/news?id=48410f9fbdcd990...</td>\n",
       "    </tr>\n",
       "    <tr>\n",
       "      <th>3</th>\n",
       "      <td>3</td>\n",
       "      <td>company</td>\n",
       "      <td>1706738780</td>\n",
       "      <td>US FAA says Boeing 737 audit will review Spiri...</td>\n",
       "      <td>125468441</td>\n",
       "      <td>https://media.zenfs.com/en/reuters-finance.com...</td>\n",
       "      <td>BA</td>\n",
       "      <td>Yahoo</td>\n",
       "      <td>WASHINGTON (Reuters) -The Federal Aviation Adm...</td>\n",
       "      <td>https://finnhub.io/api/news?id=9b6ab2295db1269...</td>\n",
       "    </tr>\n",
       "    <tr>\n",
       "      <th>4</th>\n",
       "      <td>4</td>\n",
       "      <td>company</td>\n",
       "      <td>1706738746</td>\n",
       "      <td>Boeing CEO says company has 'much to prove'</td>\n",
       "      <td>125468442</td>\n",
       "      <td>https://s.yimg.com/ny/api/res/1.2/oFjcSDkfl1nj...</td>\n",
       "      <td>BA</td>\n",
       "      <td>Yahoo</td>\n",
       "      <td>Boeing chief executive Dave Calhoun told emplo...</td>\n",
       "      <td>https://finnhub.io/api/news?id=fe1736dabb96447...</td>\n",
       "    </tr>\n",
       "    <tr>\n",
       "      <th>...</th>\n",
       "      <td>...</td>\n",
       "      <td>...</td>\n",
       "      <td>...</td>\n",
       "      <td>...</td>\n",
       "      <td>...</td>\n",
       "      <td>...</td>\n",
       "      <td>...</td>\n",
       "      <td>...</td>\n",
       "      <td>...</td>\n",
       "      <td>...</td>\n",
       "    </tr>\n",
       "    <tr>\n",
       "      <th>208</th>\n",
       "      <td>208</td>\n",
       "      <td>company</td>\n",
       "      <td>1706514420</td>\n",
       "      <td>European Airline Ryanair's Q3 Profit Slumps As...</td>\n",
       "      <td>125385770</td>\n",
       "      <td>NaN</td>\n",
       "      <td>BA</td>\n",
       "      <td>Benzinga</td>\n",
       "      <td>Looking for stock market analysis and research...</td>\n",
       "      <td>https://finnhub.io/api/news?id=4808ba7cd9ad5bb...</td>\n",
       "    </tr>\n",
       "    <tr>\n",
       "      <th>209</th>\n",
       "      <td>209</td>\n",
       "      <td>company</td>\n",
       "      <td>1706513760</td>\n",
       "      <td>Alaska Airlines plane said to have left Boeing...</td>\n",
       "      <td>125384252</td>\n",
       "      <td>NaN</td>\n",
       "      <td>BA</td>\n",
       "      <td>Seeking Alpha</td>\n",
       "      <td>Looking for stock market analysis and research...</td>\n",
       "      <td>https://finnhub.io/api/news?id=cae0cb6eed1d96a...</td>\n",
       "    </tr>\n",
       "    <tr>\n",
       "      <th>210</th>\n",
       "      <td>210</td>\n",
       "      <td>company</td>\n",
       "      <td>1706512579</td>\n",
       "      <td>News Highlights : Top Company News of the Day ...</td>\n",
       "      <td>125373537</td>\n",
       "      <td>NaN</td>\n",
       "      <td>BA</td>\n",
       "      <td>Finnhub</td>\n",
       "      <td>Evergrande Was Once China's Biggest Property D...</td>\n",
       "      <td>https://finnhub.io/api/news?id=8d715bff70ed539...</td>\n",
       "    </tr>\n",
       "    <tr>\n",
       "      <th>211</th>\n",
       "      <td>211</td>\n",
       "      <td>company</td>\n",
       "      <td>1706512440</td>\n",
       "      <td>Ryanair narrows profit guidance following clas...</td>\n",
       "      <td>125388237</td>\n",
       "      <td>https://images.mktw.net/im-88479800/social</td>\n",
       "      <td>BA</td>\n",
       "      <td>MarketWatch</td>\n",
       "      <td>Various online travel agents stopped listing R...</td>\n",
       "      <td>https://finnhub.io/api/news?id=762cc1080f80ec4...</td>\n",
       "    </tr>\n",
       "    <tr>\n",
       "      <th>212</th>\n",
       "      <td>212</td>\n",
       "      <td>company</td>\n",
       "      <td>1706512380</td>\n",
       "      <td>Ryanair will take Boeing MAX 737s orders other...</td>\n",
       "      <td>125385772</td>\n",
       "      <td>NaN</td>\n",
       "      <td>BA</td>\n",
       "      <td>Seeking Alpha</td>\n",
       "      <td>Looking for stock market analysis and research...</td>\n",
       "      <td>https://finnhub.io/api/news?id=3a78be9403ab01f...</td>\n",
       "    </tr>\n",
       "  </tbody>\n",
       "</table>\n",
       "<p>213 rows × 10 columns</p>\n",
       "</div>"
      ],
      "text/plain": [
       "     Unnamed: 0 category    datetime  \\\n",
       "0             0  company  1706743226   \n",
       "1             1  company  1706741163   \n",
       "2             2  company  1706740216   \n",
       "3             3  company  1706738780   \n",
       "4             4  company  1706738746   \n",
       "..          ...      ...         ...   \n",
       "208         208  company  1706514420   \n",
       "209         209  company  1706513760   \n",
       "210         210  company  1706512579   \n",
       "211         211  company  1706512440   \n",
       "212         212  company  1706512380   \n",
       "\n",
       "                                              headline         id  \\\n",
       "0    UPDATE 1-US FAA says Boeing 737 audit will rev...  125468439   \n",
       "1    ROSEN, TRUSTED INVESTOR COUNSEL, Encourages Th...  125443555   \n",
       "2         Boeing (BA) Q4 2023 Earnings Call Transcript  125468440   \n",
       "3    US FAA says Boeing 737 audit will review Spiri...  125468441   \n",
       "4          Boeing CEO says company has 'much to prove'  125468442   \n",
       "..                                                 ...        ...   \n",
       "208  European Airline Ryanair's Q3 Profit Slumps As...  125385770   \n",
       "209  Alaska Airlines plane said to have left Boeing...  125384252   \n",
       "210  News Highlights : Top Company News of the Day ...  125373537   \n",
       "211  Ryanair narrows profit guidance following clas...  125388237   \n",
       "212  Ryanair will take Boeing MAX 737s orders other...  125385772   \n",
       "\n",
       "                                                 image related         source  \\\n",
       "0    https://s.yimg.com/cv/apiv2/social/images/yaho...      BA          Yahoo   \n",
       "1                                                  NaN      BA        Finnhub   \n",
       "2    https://g.foolcdn.com/editorial/images/1/featu...      BA          Yahoo   \n",
       "3    https://media.zenfs.com/en/reuters-finance.com...      BA          Yahoo   \n",
       "4    https://s.yimg.com/ny/api/res/1.2/oFjcSDkfl1nj...      BA          Yahoo   \n",
       "..                                                 ...     ...            ...   \n",
       "208                                                NaN      BA       Benzinga   \n",
       "209                                                NaN      BA  Seeking Alpha   \n",
       "210                                                NaN      BA        Finnhub   \n",
       "211         https://images.mktw.net/im-88479800/social      BA    MarketWatch   \n",
       "212                                                NaN      BA  Seeking Alpha   \n",
       "\n",
       "                                               summary  \\\n",
       "0    The Federal Aviation Administration said on We...   \n",
       "1    NEW YORK, Jan. 31, 2024 /PRNewswire/ --  WHY: ...   \n",
       "2    BA earnings call for the period ending Decembe...   \n",
       "3    WASHINGTON (Reuters) -The Federal Aviation Adm...   \n",
       "4    Boeing chief executive Dave Calhoun told emplo...   \n",
       "..                                                 ...   \n",
       "208  Looking for stock market analysis and research...   \n",
       "209  Looking for stock market analysis and research...   \n",
       "210  Evergrande Was Once China's Biggest Property D...   \n",
       "211  Various online travel agents stopped listing R...   \n",
       "212  Looking for stock market analysis and research...   \n",
       "\n",
       "                                                   url  \n",
       "0    https://finnhub.io/api/news?id=3c9f0ede6c5e041...  \n",
       "1    https://finnhub.io/api/news?id=ca83085b0a7e26b...  \n",
       "2    https://finnhub.io/api/news?id=48410f9fbdcd990...  \n",
       "3    https://finnhub.io/api/news?id=9b6ab2295db1269...  \n",
       "4    https://finnhub.io/api/news?id=fe1736dabb96447...  \n",
       "..                                                 ...  \n",
       "208  https://finnhub.io/api/news?id=4808ba7cd9ad5bb...  \n",
       "209  https://finnhub.io/api/news?id=cae0cb6eed1d96a...  \n",
       "210  https://finnhub.io/api/news?id=8d715bff70ed539...  \n",
       "211  https://finnhub.io/api/news?id=762cc1080f80ec4...  \n",
       "212  https://finnhub.io/api/news?id=3a78be9403ab01f...  \n",
       "\n",
       "[213 rows x 10 columns]"
      ]
     },
     "metadata": {},
     "output_type": "display_data"
    }
   ],
   "source": [
    "cur_dir = Path.cwd()\n",
    "root_dir = path.get_root_dir(cur_dir)\n",
    "news_path = Path.joinpath(root_dir, 'data', 'raw', 'boeing_news_20231101_to_20240131.csv')\n",
    "news_df = pd.DataFrame(pd.read_csv(news_path))\n",
    "display(news_df)\n",
    "\n"
   ]
  },
  {
   "cell_type": "code",
   "execution_count": 44,
   "metadata": {},
   "outputs": [],
   "source": [
    "\n",
    "# news_df.to_csv('boeing_news_20231101_to_20240131.csv')"
   ]
  },
  {
   "cell_type": "code",
   "execution_count": 67,
   "metadata": {},
   "outputs": [
    {
     "name": "stdout",
     "output_type": "stream",
     "text": [
      "<class 'pandas.core.frame.DataFrame'>\n",
      "RangeIndex: 213 entries, 0 to 212\n",
      "Data columns (total 10 columns):\n",
      " #   Column      Non-Null Count  Dtype \n",
      "---  ------      --------------  ----- \n",
      " 0   Unnamed: 0  213 non-null    int64 \n",
      " 1   category    213 non-null    object\n",
      " 2   datetime    213 non-null    int64 \n",
      " 3   headline    213 non-null    object\n",
      " 4   id          213 non-null    int64 \n",
      " 5   image       89 non-null     object\n",
      " 6   related     213 non-null    object\n",
      " 7   source      213 non-null    object\n",
      " 8   summary     211 non-null    object\n",
      " 9   url         213 non-null    object\n",
      "dtypes: int64(3), object(7)\n",
      "memory usage: 16.8+ KB\n",
      "None\n"
     ]
    }
   ],
   "source": [
    "# General information\n",
    "print(news_df.info())\n"
   ]
  },
  {
   "cell_type": "code",
   "execution_count": 71,
   "metadata": {},
   "outputs": [
    {
     "name": "stdout",
     "output_type": "stream",
     "text": [
      "Unnamed: 0      0\n",
      "category        0\n",
      "datetime        0\n",
      "headline        0\n",
      "id              0\n",
      "image         124\n",
      "related         0\n",
      "source          0\n",
      "summary         2\n",
      "url             0\n",
      "datetime2       0\n",
      "dtype: int64\n"
     ]
    },
    {
     "data": {
      "text/html": [
       "<div>\n",
       "<style scoped>\n",
       "    .dataframe tbody tr th:only-of-type {\n",
       "        vertical-align: middle;\n",
       "    }\n",
       "\n",
       "    .dataframe tbody tr th {\n",
       "        vertical-align: top;\n",
       "    }\n",
       "\n",
       "    .dataframe thead th {\n",
       "        text-align: right;\n",
       "    }\n",
       "</style>\n",
       "<table border=\"1\" class=\"dataframe\">\n",
       "  <thead>\n",
       "    <tr style=\"text-align: right;\">\n",
       "      <th></th>\n",
       "      <th>Unnamed: 0</th>\n",
       "      <th>category</th>\n",
       "      <th>datetime</th>\n",
       "      <th>headline</th>\n",
       "      <th>id</th>\n",
       "      <th>image</th>\n",
       "      <th>related</th>\n",
       "      <th>source</th>\n",
       "      <th>summary</th>\n",
       "      <th>url</th>\n",
       "      <th>datetime2</th>\n",
       "    </tr>\n",
       "  </thead>\n",
       "  <tbody>\n",
       "    <tr>\n",
       "      <th>28</th>\n",
       "      <td>28</td>\n",
       "      <td>company</td>\n",
       "      <td>1706712966</td>\n",
       "      <td>The Boeing Company (BA) Q4 2023 Earnings Call ...</td>\n",
       "      <td>125437719</td>\n",
       "      <td>NaN</td>\n",
       "      <td>BA</td>\n",
       "      <td>SeekingAlpha</td>\n",
       "      <td>NaN</td>\n",
       "      <td>https://finnhub.io/api/news?id=97b3ae56c6a4ba0...</td>\n",
       "      <td>2024-01-31 14:56:06</td>\n",
       "    </tr>\n",
       "    <tr>\n",
       "      <th>143</th>\n",
       "      <td>143</td>\n",
       "      <td>company</td>\n",
       "      <td>1706586439</td>\n",
       "      <td>Boeing Customer Gol Files For Bankruptcy</td>\n",
       "      <td>125397543</td>\n",
       "      <td>NaN</td>\n",
       "      <td>BA</td>\n",
       "      <td>SeekingAlpha</td>\n",
       "      <td>NaN</td>\n",
       "      <td>https://finnhub.io/api/news?id=7f639fa386d7272...</td>\n",
       "      <td>2024-01-30 03:47:19</td>\n",
       "    </tr>\n",
       "  </tbody>\n",
       "</table>\n",
       "</div>"
      ],
      "text/plain": [
       "     Unnamed: 0 category    datetime  \\\n",
       "28           28  company  1706712966   \n",
       "143         143  company  1706586439   \n",
       "\n",
       "                                              headline         id image  \\\n",
       "28   The Boeing Company (BA) Q4 2023 Earnings Call ...  125437719   NaN   \n",
       "143           Boeing Customer Gol Files For Bankruptcy  125397543   NaN   \n",
       "\n",
       "    related        source summary  \\\n",
       "28       BA  SeekingAlpha     NaN   \n",
       "143      BA  SeekingAlpha     NaN   \n",
       "\n",
       "                                                   url           datetime2  \n",
       "28   https://finnhub.io/api/news?id=97b3ae56c6a4ba0... 2024-01-31 14:56:06  \n",
       "143  https://finnhub.io/api/news?id=7f639fa386d7272... 2024-01-30 03:47:19  "
      ]
     },
     "execution_count": 71,
     "metadata": {},
     "output_type": "execute_result"
    }
   ],
   "source": [
    "# Check NA values\n",
    "print(news_df.isna().sum())\n",
    "\n",
    "# Convert UNIX to pandas datetime\n",
    "news_df['datetime2'] = pd.to_datetime(news_df['datetime'], unit=\"s\")\n",
    "news_df.loc[pd.isna(news_df['summary']), :]\n"
   ]
  },
  {
   "cell_type": "code",
   "execution_count": null,
   "metadata": {},
   "outputs": [],
   "source": [
    "news_df2 = news_df.drop(columns=['Unnamed: 0', 'image'])\n",
    "news_df2.dropna(axis=1,)\n",
    "news_df2"
   ]
  },
  {
   "cell_type": "code",
   "execution_count": 66,
   "metadata": {},
   "outputs": [
    {
     "name": "stdout",
     "output_type": "stream",
     "text": [
      "<class 'pandas.core.frame.DataFrame'>\n",
      "RangeIndex: 213 entries, 0 to 212\n",
      "Data columns (total 10 columns):\n",
      " #   Column      Non-Null Count  Dtype \n",
      "---  ------      --------------  ----- \n",
      " 0   Unnamed: 0  213 non-null    int64 \n",
      " 1   category    213 non-null    object\n",
      " 2   datetime    213 non-null    int64 \n",
      " 3   headline    213 non-null    object\n",
      " 4   id          213 non-null    int64 \n",
      " 5   image       89 non-null     object\n",
      " 6   related     213 non-null    object\n",
      " 7   source      213 non-null    object\n",
      " 8   summary     211 non-null    object\n",
      " 9   url         213 non-null    object\n",
      "dtypes: int64(3), object(7)\n",
      "memory usage: 16.8+ KB\n",
      "None\n",
      "Unnamed: 0      0\n",
      "category        0\n",
      "datetime        0\n",
      "headline        0\n",
      "id              0\n",
      "image         124\n",
      "related         0\n",
      "source          0\n",
      "summary         2\n",
      "url             0\n",
      "dtype: int64\n",
      "['Yahoo' 'Finnhub' 'MarketWatch' 'SeekingAlpha' 'Alliance News' 'TipRanks'\n",
      " 'Benzinga' 'Seeking Alpha' 'Thefly.com' 'TalkMarkets' '247WallSt'\n",
      " 'InvestorPlace' 'United Press International' 'PR Newswire'\n",
      " 'Market News Video' 'Associated Press, The' 'GuruFocus']\n",
      "0      False\n",
      "1      False\n",
      "2      False\n",
      "3      False\n",
      "4      False\n",
      "       ...  \n",
      "208    False\n",
      "209    False\n",
      "210    False\n",
      "211    False\n",
      "212    False\n",
      "Name: id, Length: 213, dtype: bool\n",
      "Unique values in 'category':\n",
      "['company']\n",
      "Unique values in 'source':\n",
      "['Yahoo' 'Finnhub' 'MarketWatch' 'SeekingAlpha' 'Alliance News' 'TipRanks'\n",
      " 'Benzinga' 'Seeking Alpha' 'Thefly.com' 'TalkMarkets' '247WallSt'\n",
      " 'InvestorPlace' 'United Press International' 'PR Newswire'\n",
      " 'Market News Video' 'Associated Press, The' 'GuruFocus']\n"
     ]
    }
   ],
   "source": [
    "print(news_df['source'].unique())\n",
    "print(news_df['id'].duplicated().sum())\n",
    "for column in ['category', 'source']:\n",
    "    print(f\"Unique values in '{column}':\")\n",
    "    print(news_df[column].unique())"
   ]
  },
  {
   "cell_type": "markdown",
   "metadata": {},
   "source": [
    "TODO: timezone\n",
    "UNIX timezone 1706743226\n",
    "https://www.google.com/url?sa=t&rct=j&q=&esrc=s&source=web&cd=&cad=rja&uact=8&ved=2ahUKEwjMxeO_w5CEAxWByjgGHQwwCT8QFnoECA0QAw&url=https%3A%2F%2Fnote.nkmk.me%2Fen%2Fpython-unix-time-datetime%2F%23%3A~%3Atext%3DUnix%2520time%2520is%2520the%2520number%2CPosix%2520time%252C%2520and%2520so%2520on.&usg=AOvVaw0s2rDBPUsnO1N5cO74o2AR&opi=89978449"
   ]
  },
  {
   "cell_type": "code",
   "execution_count": null,
   "metadata": {},
   "outputs": [],
   "source": []
  },
  {
   "cell_type": "markdown",
   "metadata": {},
   "source": [
    "# Parse"
   ]
  },
  {
   "cell_type": "code",
   "execution_count": 46,
   "metadata": {},
   "outputs": [
    {
     "data": {
      "text/plain": [
       "'(Adds background, comments, more from FAA) By David Shepardson WASHINGTON, Jan 31 (Reuters) - The Federal Aviation Administration said on Wednesday that its previously announced audit of Boeing 737 MAX manufacturing will look at all elements of production at Boeing and fuselage production at Spirit AeroSystems\\'. The FAA said a team of two dozen aviation safety inspectors will conduct the audit at the Boeing 737 facility in Renton, Washington, and at Spirit in Wichita, Kansas. The audit will also examine how Boeing transfers unfinished work from suppliers to its production lines. The FAA announced the audit on Jan. 13 after the agency grounded 171 MAX 9 planes due to a mid-air cabin panel blowout on a new Alaska Airlines MAX 9. The FAA last week allowed the planes to fly again. The FAA said it is conducting enhanced oversight of Boeing and \"will regularly assess trends, corrective actions and the effects of any changes to the quality system.\" The FAA did not say how long the greater scrutiny would last. FAA Administrator Mike Whitaker told Reuters this month the Boeing production audit would begin with the 737 MAX and extend to other planes as warranted by data. Whitaker said the FAA audit \"is to look at the system, look at how the inspections are done, where they\\'re done, how the interaction is with the suppliers, how the handoff happens, just the whole process to really understand how it works and where the faults might be.\" Spirit AeroSystems, which did not immediately comment Wednesday, said previously it is \"committed to supporting the FAA’s audit of production and manufacturing processes.\" Boeing CEO Dave Calhoun said Wednesday the planemaker is \"taking immediate and comprehensive action to strengthen quality at Boeing and within our supply chain.\" The National Transportation Safety Board is looking at whether the bolts attaching the cabin panel in the Jan. 5 incident were missing. The FAA has opened a separate formal investigation into the MAX 9. (Reporting by David Shepardson; Editing by Leslie Adler and Cynthia Osterman) Related Quotes'"
      ]
     },
     "execution_count": 46,
     "metadata": {},
     "output_type": "execute_result"
    }
   ],
   "source": [
    "url = 'https://finnhub.io/api/news?id=3c9f0ede6c5e04181019b4ee12a18bcf1094b8970cfdff1f8d454a888134b2a2'\n",
    "response = requests.get(url)\n",
    "soup = BeautifulSoup(response.content, 'html.parser')\n",
    "# The method to find the news content in the HTML will vary by site\n",
    "# For example, if the news content is within a <p> tag\n",
    "news_content = ' '.join(p.get_text() for p in soup.find_all('p'))\n",
    "news_content"
   ]
  },
  {
   "cell_type": "markdown",
   "metadata": {},
   "source": [
    "- Notes from prof\n",
    "    - here is a sample use for English: sentic.net/api/en/KEY.py?text=senticnet+is+pretty+cool\n",
    "\n",
    "    - input text does not require any special formatting so feel free to use spaces instead of '+' or '%20'\n",
    "\n",
    "    - ampersand, hashtag, semicolons, and braces ('&', '#', ';', '{', '}'), however, are illegal characters\n",
    "\n",
    "    - hence, they should be replaced with colons (':') or removed entirely in the preprocessing phase\n",
    "\n",
    "    - please note that:\n",
    "\n",
    "    - 1) API keys are case-sensitive\n",
    "\n",
    "    - 2) API keys will be valid for about one month\n",
    "\n",
    "    - 3) API keys are personal and confidential\n",
    "\n",
    "    - do not share nor use them from different devices or IP addresses\n",
    "\n",
    "    - or else they will get terminated earlier\n",
    "\n",
    "    - the capacity limit for our server is 8000 characters \n",
    "\n",
    "    - so our recommendation is to cap your input at about 1000 words\n",
    "\n",
    "    - if you need to process bigger texts, you will have to split them into smaller parts\n",
    "\n",
    "    - this is also a good idea in case you want to perform a finer-grained analysis of your input\n",
    "\n",
    "    - all APIs, in fact, are designed to give you an overall judgement about the whole input\n",
    "\n",
    "    - for more details, split your text into paragraphs or sentences and feed them to the API one by one"
   ]
  },
  {
   "cell_type": "code",
   "execution_count": null,
   "metadata": {},
   "outputs": [],
   "source": []
  },
  {
   "cell_type": "code",
   "execution_count": null,
   "metadata": {},
   "outputs": [
    {
     "data": {
      "text/plain": [
       "'\\nThe latest black eye for Boeing\\'s top-selling 737 MAX aircraft occurred Friday when a cabin panel blowout forced an Alaska Airlines (ALK.N) flight to make an emergency landing.\\nU.S. regulators ordered a temporary grounding of certain planes for safety checks. That\\'s not as severe a move as the grounding of all MAX-family jets worldwide nearly five years ago following a pair of fatal crashes.\\n\\nHere is a timeline of recent issues surrounding Boeing\\'s (BA.N) MAX planes:\\n\\nOCTOBER 2018: A Lion Air MAX plane crashes in Indonesia, killing all 189 people on board.\\n\\nNOVEMBER 2018: The FAA and Boeing say they are evaluating the need for software or design changes to 737 MAX jets following the Lion Air crash.\\n\\nMARCH 2019: An Ethiopian Airlines MAX crashes, killing all 157 people on board. China\\'s aviation regulator becomes the first in the world to ground the MAX, followed by others including the U.S. Federal Aviation Administration.\\n\\n\\nAPRIL 2019: The FAA forms an international team to review the safety of the 737 MAX. Boeing cuts monthly production by nearly 20%.\\n\\nJULY 2019: Boeing posts its largest-ever quarterly loss.\\n\\nSEPTEMBER 2019: Boeing\\'s board of directors creates a permanent safety committee to oversee development, manufacturing and operation of its aircraft.\\n\\nOCTOBER 2019: Boeing fires Kevin McAllister, the top executive of its commercial airplanes division.\\n\\n\\nDECEMBER 2020: The company fires CEO Dennis Muilenburg in the wake of the twin crashes.\\n\\nJANUARY 2020: Boeing suspends 737 production, its biggest assembly-line halt in more than 20 years.\\n\\nMAY 2020: Boeing resumes 737 MAX production at a \"low rate.\"\\n\\nJUNE 2020: Boeing begins a series of long-delayed flight tests of its redesigned 737 MAX with regulators at the controls.\\n\\nSEPTEMBER 2020: An 18-month investigation by a U.S. House of Representatives panel finds Boeing failed in its design and development of the MAX as well as its transparency with the FAA, and that the FAA failed in oversight and certification.\\n\\nNOVEMBER 2020: The U.S. FAA lifts the grounding order, allowing the 737 MAX to fly again.\\n\\nDECEMBER 2020: Congress passes legislation to reform how the FAA certifies new airplanes, including requiring manufacturers to disclose certain safety-critical information to the FAA.\\n\\nJANUARY 2021: The European Union Aviation Safety Agency approves the MAX\\'s return to service in Europe.\\n\\nMARCH 2021: China\\'s aviation regulator says major safety concerns with the MAX needed to be \"properly addressed\" before conducting flight tests.\\n\\nAPRIL 2021: Boeing halts 737 MAX deliveries after electrical problems re-ground part of the fleet.\\nNOVEMBER 2021: Current and former Boeing company directors reach a $237.5 million settlement with shareholders to settle lawsuits over safety oversight of the 737 MAX.\\n\\nOCTOBER 2022: The FAA tells Boeing that some key documents submitted as part of the certification review of the 737 MAX 7 are incomplete and others need a reassessment.\\n\\nDECEMBER 2022: Congress agrees to extend a deadline for new standards for modern cockpit alerts stemming from the 2020 legislation after intense lobbying from Boeing.\\n\\nAPRIL 2023: Boeing pauses deliveries of some 737 MAXs to deal with a new supplier quality problem involving noncompliant fittings.\\nJULY 2023: Boeing\\'s first delivery of the 737 MAX 7 is delayed to 2024.\\n\\nAUGUST 2023: Boeing identifies a new 737 MAX supplier quality problem involving improperly drilled holes on the aft pressure bulkhead.\\n\\nSEPTEMBER 2023: Boeing 737 MAX deliveries fall to their lowest levels since August 2021.\\nDECEMBER 2023: Boeing makes its first direct delivery of a 787 Dreamliner to China since 2019, seen as a precursor to China potentially unfreezing deliveries of the 737 MAX.\\nJANUARY 2024: An Alaskan Air flight is forced to conduct an emergency landing after a cabin panel blowout on a brand-new 737 MAX 9 plane. The U.S. FAA grounds certain 737 MAX 9 aircraft for safety checks.\\n'"
      ]
     },
     "metadata": {},
     "output_type": "display_data"
    },
    {
     "data": {
      "text/plain": [
       "[\"The latest black eye for Boeing's top-selling 737 MAX aircraft occurred Friday when a cabin panel blowout forced an Alaska Airlines (ALK.N) flight to make an emergency landing.\",\n",
       " \"U.S. regulators ordered a temporary grounding of certain planes for safety checks. That's not as severe a move as the grounding of all MAX-family jets worldwide nearly five years ago following a pair of fatal crashes.\",\n",
       " \"Here is a timeline of recent issues surrounding Boeing's (BA.N) MAX planes:\",\n",
       " 'OCTOBER 2018: A Lion Air MAX plane crashes in Indonesia, killing all 189 people on board.',\n",
       " 'NOVEMBER 2018: The FAA and Boeing say they are evaluating the need for software or design changes to 737 MAX jets following the Lion Air crash.',\n",
       " \"MARCH 2019: An Ethiopian Airlines MAX crashes, killing all 157 people on board. China's aviation regulator becomes the first in the world to ground the MAX, followed by others including the U.S. Federal Aviation Administration.\",\n",
       " 'APRIL 2019: The FAA forms an international team to review the safety of the 737 MAX. Boeing cuts monthly production by nearly 20%.',\n",
       " 'JULY 2019: Boeing posts its largest-ever quarterly loss.',\n",
       " \"SEPTEMBER 2019: Boeing's board of directors creates a permanent safety committee to oversee development, manufacturing and operation of its aircraft.\",\n",
       " 'OCTOBER 2019: Boeing fires Kevin McAllister, the top executive of its commercial airplanes division.',\n",
       " 'DECEMBER 2020: The company fires CEO Dennis Muilenburg in the wake of the twin crashes.',\n",
       " 'JANUARY 2020: Boeing suspends 737 production, its biggest assembly-line halt in more than 20 years.',\n",
       " 'MAY 2020: Boeing resumes 737 MAX production at a \"low rate.\"',\n",
       " 'JUNE 2020: Boeing begins a series of long-delayed flight tests of its redesigned 737 MAX with regulators at the controls.',\n",
       " 'SEPTEMBER 2020: An 18-month investigation by a U.S. House of Representatives panel finds Boeing failed in its design and development of the MAX as well as its transparency with the FAA, and that the FAA failed in oversight and certification.',\n",
       " 'NOVEMBER 2020: The U.S. FAA lifts the grounding order, allowing the 737 MAX to fly again.',\n",
       " 'DECEMBER 2020: Congress passes legislation to reform how the FAA certifies new airplanes, including requiring manufacturers to disclose certain safety-critical information to the FAA.',\n",
       " \"JANUARY 2021: The European Union Aviation Safety Agency approves the MAX's return to service in Europe.\",\n",
       " 'MARCH 2021: China\\'s aviation regulator says major safety concerns with the MAX needed to be \"properly addressed\" before conducting flight tests.',\n",
       " 'APRIL 2021: Boeing halts 737 MAX deliveries after electrical problems re-ground part of the fleet.',\n",
       " 'NOVEMBER 2021: Current and former Boeing company directors reach a $237.5 million settlement with shareholders to settle lawsuits over safety oversight of the 737 MAX.',\n",
       " 'OCTOBER 2022: The FAA tells Boeing that some key documents submitted as part of the certification review of the 737 MAX 7 are incomplete and others need a reassessment.',\n",
       " 'DECEMBER 2022: Congress agrees to extend a deadline for new standards for modern cockpit alerts stemming from the 2020 legislation after intense lobbying from Boeing.',\n",
       " 'APRIL 2023: Boeing pauses deliveries of some 737 MAXs to deal with a new supplier quality problem involving noncompliant fittings.',\n",
       " \"JULY 2023: Boeing's first delivery of the 737 MAX 7 is delayed to 2024.\",\n",
       " 'AUGUST 2023: Boeing identifies a new 737 MAX supplier quality problem involving improperly drilled holes on the aft pressure bulkhead.',\n",
       " 'SEPTEMBER 2023: Boeing 737 MAX deliveries fall to their lowest levels since August 2021.',\n",
       " 'DECEMBER 2023: Boeing makes its first direct delivery of a 787 Dreamliner to China since 2019, seen as a precursor to China potentially unfreezing deliveries of the 737 MAX.',\n",
       " 'JANUARY 2024: An Alaskan Air flight is forced to conduct an emergency landing after a cabin panel blowout on a brand-new 737 MAX 9 plane. The U.S. FAA grounds certain 737 MAX 9 aircraft for safety checks.']"
      ]
     },
     "execution_count": 12,
     "metadata": {},
     "output_type": "execute_result"
    }
   ],
   "source": [
    "news_txt = \"\"\"\n",
    "The latest black eye for Boeing's top-selling 737 MAX aircraft occurred Friday when a cabin panel blowout forced an Alaska Airlines (ALK.N) flight to make an emergency landing.\n",
    "U.S. regulators ordered a temporary grounding of certain planes for safety checks. That's not as severe a move as the grounding of all MAX-family jets worldwide nearly five years ago following a pair of fatal crashes.\n",
    "\n",
    "Here is a timeline of recent issues surrounding Boeing's (BA.N) MAX planes:\n",
    "Advertisement · Scroll to continue\n",
    "OCTOBER 2018: A Lion Air MAX plane crashes in Indonesia, killing all 189 people on board.\n",
    "\n",
    "NOVEMBER 2018: The FAA and Boeing say they are evaluating the need for software or design changes to 737 MAX jets following the Lion Air crash.\n",
    "\n",
    "MARCH 2019: An Ethiopian Airlines MAX crashes, killing all 157 people on board. China's aviation regulator becomes the first in the world to ground the MAX, followed by others including the U.S. Federal Aviation Administration.\n",
    "\n",
    "Advertisement · Scroll to continue\n",
    "APRIL 2019: The FAA forms an international team to review the safety of the 737 MAX. Boeing cuts monthly production by nearly 20%.\n",
    "\n",
    "JULY 2019: Boeing posts its largest-ever quarterly loss.\n",
    "\n",
    "SEPTEMBER 2019: Boeing's board of directors creates a permanent safety committee to oversee development, manufacturing and operation of its aircraft.\n",
    "\n",
    "OCTOBER 2019: Boeing fires Kevin McAllister, the top executive of its commercial airplanes division.\n",
    "\n",
    "Advertisement · Scroll to continue\n",
    "DECEMBER 2020: The company fires CEO Dennis Muilenburg in the wake of the twin crashes.\n",
    "\n",
    "JANUARY 2020: Boeing suspends 737 production, its biggest assembly-line halt in more than 20 years.\n",
    "\n",
    "MAY 2020: Boeing resumes 737 MAX production at a \"low rate.\"\n",
    "\n",
    "JUNE 2020: Boeing begins a series of long-delayed flight tests of its redesigned 737 MAX with regulators at the controls.\n",
    "\n",
    "SEPTEMBER 2020: An 18-month investigation by a U.S. House of Representatives panel finds Boeing failed in its design and development of the MAX as well as its transparency with the FAA, and that the FAA failed in oversight and certification.\n",
    "\n",
    "NOVEMBER 2020: The U.S. FAA lifts the grounding order, allowing the 737 MAX to fly again.\n",
    "\n",
    "DECEMBER 2020: Congress passes legislation to reform how the FAA certifies new airplanes, including requiring manufacturers to disclose certain safety-critical information to the FAA.\n",
    "\n",
    "JANUARY 2021: The European Union Aviation Safety Agency approves the MAX's return to service in Europe.\n",
    "\n",
    "MARCH 2021: China's aviation regulator says major safety concerns with the MAX needed to be \"properly addressed\" before conducting flight tests.\n",
    "\n",
    "APRIL 2021: Boeing halts 737 MAX deliveries after electrical problems re-ground part of the fleet.\n",
    "NOVEMBER 2021: Current and former Boeing company directors reach a $237.5 million settlement with shareholders to settle lawsuits over safety oversight of the 737 MAX.\n",
    "\n",
    "OCTOBER 2022: The FAA tells Boeing that some key documents submitted as part of the certification review of the 737 MAX 7 are incomplete and others need a reassessment.\n",
    "\n",
    "DECEMBER 2022: Congress agrees to extend a deadline for new standards for modern cockpit alerts stemming from the 2020 legislation after intense lobbying from Boeing.\n",
    "\n",
    "APRIL 2023: Boeing pauses deliveries of some 737 MAXs to deal with a new supplier quality problem involving noncompliant fittings.\n",
    "JULY 2023: Boeing's first delivery of the 737 MAX 7 is delayed to 2024.\n",
    "\n",
    "AUGUST 2023: Boeing identifies a new 737 MAX supplier quality problem involving improperly drilled holes on the aft pressure bulkhead.\n",
    "\n",
    "SEPTEMBER 2023: Boeing 737 MAX deliveries fall to their lowest levels since August 2021.\n",
    "DECEMBER 2023: Boeing makes its first direct delivery of a 787 Dreamliner to China since 2019, seen as a precursor to China potentially unfreezing deliveries of the 737 MAX.\n",
    "JANUARY 2024: An Alaskan Air flight is forced to conduct an emergency landing after a cabin panel blowout on a brand-new 737 MAX 9 plane. The U.S. FAA grounds certain 737 MAX 9 aircraft for safety checks.\n",
    "\"\"\"\n",
    "\n",
    "char_limit = 8000\n",
    "# Remove invalid characters for API\n",
    "news_txt2 = re.sub(r'[&#;{}]', '', news_txt)\n",
    "\n",
    "# Remove advertisement-like texts\n",
    "news_txt3 = re.sub(r'Advertisement · Scroll to continue', '', news_txt2)\n",
    "display(news_txt3)\n",
    "\n",
    "# paragraph.strip() does not include '' in the new list\n",
    "# Removes leading and trailing white spaces\n",
    "passages2 = [paragraph.strip() for paragraph in news_txt3.split('\\n') if paragraph.strip()]\n",
    "\n",
    "# Split based on 8000 characters\n",
    "# passages = [news_txt3[i: i + char_limit] for i in range(0, len(news_txt3), char_limit)]\n",
    "\n",
    "passages2"
   ]
  },
  {
   "cell_type": "markdown",
   "metadata": {},
   "source": [
    "# Sentiment analysis\n",
    "- SenticNet\n",
    "- TextBlob\n",
    "- nltk\n",
    "- BERT\n",
    "\n",
    "TODO:\n",
    "- Check whether need to unify the results\n",
    "- Not included subjectivity yet"
   ]
  },
  {
   "cell_type": "code",
   "execution_count": null,
   "metadata": {},
   "outputs": [
    {
     "data": {
      "text/plain": [
       "'POSITIVE'"
      ]
     },
     "metadata": {},
     "output_type": "display_data"
    },
    {
     "data": {
      "text/plain": [
       "'55'"
      ]
     },
     "metadata": {},
     "output_type": "display_data"
    },
    {
     "data": {
      "text/plain": [
       "'SUBJECTIVE'"
      ]
     },
     "metadata": {},
     "output_type": "display_data"
    }
   ],
   "source": [
    "# number of tweets pass through API\n",
    "\n",
    "def analyse(text, LANG, KEY):\n",
    "    APIURL = 'https://sentic.net/api/' + LANG + '/' + KEY + '.py?text='\n",
    "    \n",
    "    # label is the concept, polarity that is returned from API\n",
    "    label = str(requests.get(APIURL + text).content)[2:-3]\n",
    "    return label\n",
    "\n",
    "res1 = analyse(passages2[3], 'en', POLARITY_API_KEY)\n",
    "res2 = analyse(passages2[5], 'en', INTENSITY_API_KEY)\n",
    "res3 = analyse(passages2[8], 'en', SUBJECTIVITY_API_KEY)\n",
    "\n",
    "display(res1, res2, res3)\n",
    "\n"
   ]
  },
  {
   "cell_type": "code",
   "execution_count": null,
   "metadata": {},
   "outputs": [
    {
     "name": "stdout",
     "output_type": "stream",
     "text": [
      "Polarity: 0.0\n",
      "Subjectivity: 0.0\n"
     ]
    }
   ],
   "source": [
    "sentence = 'OCTOBER 2018: A Lion Air MAX plane crashes in Indonesia, killing all 189 people on board.'\n",
    "\n",
    "blob = TextBlob(sentence)\n",
    "polarity = blob.sentiment.polarity\n",
    "subjectivity = blob.sentiment.subjectivity\n",
    "\n",
    "print(f\"Polarity: {polarity}\")\n",
    "print(f\"Subjectivity: {subjectivity}\")"
   ]
  },
  {
   "cell_type": "code",
   "execution_count": null,
   "metadata": {},
   "outputs": [
    {
     "name": "stdout",
     "output_type": "stream",
     "text": [
      "{'neg': 0.239, 'neu': 0.761, 'pos': 0.0, 'compound': -0.6597}\n"
     ]
    }
   ],
   "source": [
    "\n",
    "\n",
    "# nltk.download('vader_lexicon')  # Download the VADER lexicon if not already downloaded\n",
    "\n",
    "sentence = 'OCTOBER 2018: A Lion Air MAX plane crashes in Indonesia, killing all 189 people on board.'\n",
    "\n",
    "sid = SentimentIntensityAnalyzer()\n",
    "sentiment_scores = sid.polarity_scores(sentence)\n",
    "\n",
    "print(sentiment_scores)\n",
    "\n",
    "# VADER compound score: https://stackoverflow.com/questions/40325980/how-is-the-vader-compound-polarity-score-calculated-in-python-nltk"
   ]
  },
  {
   "cell_type": "code",
   "execution_count": null,
   "metadata": {},
   "outputs": [
    {
     "name": "stderr",
     "output_type": "stream",
     "text": [
      "config.json: 100%|██████████| 953/953 [00:00<00:00, 1.35MB/s]\n",
      "pytorch_model.bin: 100%|██████████| 669M/669M [00:11<00:00, 59.6MB/s] \n",
      "/opt/homebrew/lib/python3.11/site-packages/torch/_utils.py:831: UserWarning: TypedStorage is deprecated. It will be removed in the future and UntypedStorage will be the only storage class. This should only matter to you if you are using storages directly.  To access UntypedStorage directly, use tensor.untyped_storage() instead of tensor.storage()\n",
      "  return self.fget.__get__(instance, owner)()\n",
      "tokenizer_config.json: 100%|██████████| 39.0/39.0 [00:00<00:00, 877B/s]\n",
      "vocab.txt: 100%|██████████| 872k/872k [00:00<00:00, 1.54MB/s]\n",
      "special_tokens_map.json: 100%|██████████| 112/112 [00:00<00:00, 284kB/s]\n"
     ]
    },
    {
     "name": "stdout",
     "output_type": "stream",
     "text": [
      "[{'label': '1 star', 'score': 0.8441336154937744}]\n"
     ]
    }
   ],
   "source": [
    "from transformers import pipeline\n",
    "\n",
    "# Load the sentiment analysis pipeline with the chosen BERT model\n",
    "model_name = \"nlptown/bert-base-multilingual-uncased-sentiment\"\n",
    "sentiment_analysis = pipeline(\"sentiment-analysis\", model=model_name)\n",
    "\n",
    "# Example sentence\n",
    "sentence = 'OCTOBER 2018: A Lion Air MAX plane crashes in Indonesia, killing all 189 people on board.'\n",
    "\n",
    "# Get sentiment prediction\n",
    "result = sentiment_analysis(sentence)\n",
    "\n",
    "# Print the result\n",
    "print(result)\n",
    "\n",
    "# label is 1 to 5 stars. 1 is very negative, 5 is very positive\n",
    "# Score is the confidence, between 0 to 1"
   ]
  }
 ],
 "metadata": {
  "kernelspec": {
   "display_name": "Python 3",
   "language": "python",
   "name": "python3"
  },
  "language_info": {
   "codemirror_mode": {
    "name": "ipython",
    "version": 3
   },
   "file_extension": ".py",
   "mimetype": "text/x-python",
   "name": "python",
   "nbconvert_exporter": "python",
   "pygments_lexer": "ipython3",
   "version": "3.11.3"
  }
 },
 "nbformat": 4,
 "nbformat_minor": 2
}
