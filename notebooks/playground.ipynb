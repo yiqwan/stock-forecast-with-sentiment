{
 "cells": [
  {
   "cell_type": "markdown",
   "metadata": {},
   "source": [
    "# Import"
   ]
  },
  {
   "cell_type": "code",
   "execution_count": 1,
   "metadata": {},
   "outputs": [
    {
     "name": "stderr",
     "output_type": "stream",
     "text": [
      "/opt/homebrew/lib/python3.11/site-packages/tqdm/auto.py:21: TqdmWarning: IProgress not found. Please update jupyter and ipywidgets. See https://ipywidgets.readthedocs.io/en/stable/user_install.html\n",
      "  from .autonotebook import tqdm as notebook_tqdm\n"
     ]
    }
   ],
   "source": [
    "import os\n",
    "import ast\n",
    "import requests\n",
    "import logging\n",
    "\n",
    "import yfinance as yf\n",
    "import pandas as pd\n",
    "import numpy as np\n",
    "import finnhub\n",
    "from dotenv import load_dotenv\n",
    "from pathlib import Path    \n",
    "import sys\n",
    "import time\n",
    "sys.path.append('../') # Change the python path at runtime\n",
    "\n",
    "# Self-created modules\n",
    "from src.utils import path as path_yq\n",
    "from src.backtesting import Backtest, Strategy\n",
    "\n",
    "load_dotenv()\n",
    "POLYGON_API_KEY = os.environ.get('POLYGON_API_KEY')\n",
    "\n",
    "BT_START_DATE = '2023-11-01'\n",
    "BT_START_STR = '20231101'\n",
    "BT_END_DATE = '2024-01-31'\n",
    "BT_END_STR = '20240131'\n",
    "\n",
    "cur_dir = Path.cwd()\n",
    "root_dir = path_yq.get_root_dir(cur_dir)\n",
    "\n",
    "logging.basicConfig(filename=Path.joinpath(root_dir, 'logs', 'trading_system.log'),\n",
    "                    format='%(asctime)s - %(name)s - %(levelname)s - %(message)s',\n",
    "                    level=logging.DEBUG)"
   ]
  },
  {
   "cell_type": "markdown",
   "metadata": {},
   "source": [
    "Test"
   ]
  },
  {
   "cell_type": "code",
   "execution_count": null,
   "metadata": {},
   "outputs": [],
   "source": [
    "def kwargs_func(**kwargs):\n",
    "    for key, val in kwargs.items():\n",
    "        print(f\"{key}: {val}\")\n",
    "kwargs_func(test='a', num=1)"
   ]
  },
  {
   "cell_type": "code",
   "execution_count": 15,
   "metadata": {},
   "outputs": [
    {
     "name": "stderr",
     "output_type": "stream",
     "text": [
      "/var/folders/nw/_dsfxl1x5wl1p_pdmrb1y1hh0000gn/T/ipykernel_46762/3078107861.py:45: UserWarning: Data index is not datetime. Assuming simple periods, but `pd.DateTimeIndex` is advised.\n",
      "  bt = Backtest(data=merged2,\n"
     ]
    },
    {
     "data": {
      "text/plain": [
       "Start                                     0.0\n",
       "End                                   31397.0\n",
       "Duration                              31397.0\n",
       "Exposure Time [%]                   85.970444\n",
       "Equity Final [$]                 10137.533592\n",
       "Equity Peak [$]                   11350.94807\n",
       "Return [%]                           1.375336\n",
       "Buy & Hold Return [%]                6.905782\n",
       "Return (Ann.) [%]                         0.0\n",
       "Volatility (Ann.) [%]                     NaN\n",
       "Sharpe Ratio                              NaN\n",
       "Sortino Ratio                             NaN\n",
       "Calmar Ratio                              0.0\n",
       "Max. Drawdown [%]                  -11.141218\n",
       "Avg. Drawdown [%]                   -0.307805\n",
       "Max. Drawdown Duration                15198.0\n",
       "Avg. Drawdown Duration             187.690909\n",
       "# Trades                                421.0\n",
       "Win Rate [%]                        37.054632\n",
       "Best Trade [%]                       2.722772\n",
       "Worst Trade [%]                     -6.827858\n",
       "Avg. Trade [%]                       0.061676\n",
       "Max. Trade Duration                    1824.0\n",
       "Avg. Trade Duration                309.543943\n",
       "Profit Factor                        1.112167\n",
       "Expectancy [%]                       0.072979\n",
       "SQN                                  0.221724\n",
       "Kelly Criterion                      0.008579\n",
       "_strategy                 SimpleStmStrat(c...\n",
       "_equity_curve                          Equ...\n",
       "_trades                        Size  Entry...\n",
       "dtype: object"
      ]
     },
     "metadata": {},
     "output_type": "display_data"
    },
    {
     "name": "stdout",
     "output_type": "stream",
     "text": [
      "<class 'pandas.core.series.Series'>\n"
     ]
    },
    {
     "data": {
      "text/plain": [
       "0     -0.009718\n",
       "1     -0.010218\n",
       "2     -0.012548\n",
       "3      0.019279\n",
       "4     -0.010051\n",
       "         ...   \n",
       "416   -0.001859\n",
       "417   -0.001949\n",
       "418   -0.002946\n",
       "419   -0.006715\n",
       "420   -0.004784\n",
       "Name: ReturnPct, Length: 421, dtype: float64"
      ]
     },
     "metadata": {},
     "output_type": "display_data"
    },
    {
     "name": "stderr",
     "output_type": "stream",
     "text": [
      "/Users/tangyiqwan/dev/projects/quant/fyp/notebooks/../src/backtesting/_plotting.py:660: UserWarning: found multiple competing values for 'toolbar.active_drag' property; using the latest value\n",
      "  fig = gridplot(\n",
      "/Users/tangyiqwan/dev/projects/quant/fyp/notebooks/../src/backtesting/_plotting.py:660: UserWarning: found multiple competing values for 'toolbar.active_scroll' property; using the latest value\n",
      "  fig = gridplot(\n"
     ]
    },
    {
     "name": "stdout",
     "output_type": "stream",
     "text": [
      "1.3753359200000523 -11.141218224249972 421.0 37.05463182897862\n"
     ]
    }
   ],
   "source": [
    "class SimpleStmStrat(Strategy):\n",
    "    \"\"\"\n",
    "    Use a proportional amount of cash to trade with the sentiment score indicator.\n",
    "    \"\"\"\n",
    "    # Strategy class should define parameters as class variables before they can be optimized or run with.\n",
    "    col = None\n",
    "\n",
    "    # Add the parameters in init\n",
    "    def __init__(self, broker, data, **kwargs):\n",
    "        super().__init__(broker, data, **kwargs)  # Make sure the parent class can handle **kwargs appropriately\n",
    "        self.col = kwargs.get('col', self.col)\n",
    "\n",
    "    # Initialize additional indicators here if needed\n",
    "    def init(self):\n",
    "        # self.trade_size = 40 # This times the next open price cannot exceed equity\n",
    "        self.sl_pct = 0.01\n",
    "        self.tp_pct = 0.02\n",
    "        self.risk_per_trade = 0.5 # Maximum of the portfolio on one trade\n",
    "        # ['cln_hdl_pol_stc_score', 'cln_smr_pol_stc_score', 'cln_hdl_pol_blob_score', 'cln_smr_pol_blob_score', 'cln_news_pol_blob_score', 'cln_hdl_lemma_pol_blob_score', 'cln_smr_lemma_pol_blob_score', 'cln_news_lemma_pol_blob_score', 'cln_hdl_pol_sid_score', 'cln_smr_pol_sid_score', 'cln_news_pol_sid_score', 'cln_hdl_lemma_pol_sid_score', 'cln_smr_lemma_pol_sid_score', 'cln_news_lemma_pol_sid_score', 'cln_hdl_pol_bert_score', 'cln_smr_pol_bert_score', 'cln_news_pol_bert_score', 'cln_hdl_lemma_pol_bert_score', 'cln_smr_lemma_pol_bert_score', 'cln_news_lemma_pol_bert_score', 'cln_hdl_pol_finbert_score', 'cln_smr_pol_finbert_score', 'cln_news_pol_finbert_score', 'cln_hdl_lemma_pol_finbert_score', 'cln_smr_lemma_pol_finbert_score', 'cln_news_lemma_pol_finbert_score']\n",
    "\n",
    "    def next(self):\n",
    "        cur_stm = self.data[self.col][-1]\n",
    "        # print(self.data['closest_date'][-1])\n",
    "        cur_price = self.data['Close'][-1]\n",
    "\n",
    "        # print(f\"-----{self.data['Datetime'][-1]}-----\")\n",
    "        trade_size = (0.5 * (abs(cur_stm) ** 2) + 0.5) * self.risk_per_trade\n",
    "        if (cur_stm > 0): # Many losses if I don't take\n",
    "            self.buy(size=trade_size, sl=(1 - self.sl_pct) * cur_price, tp=(1 + self.tp_pct) * cur_price)\n",
    "            # If size is a value between 0 and 1, it is interpreted as a fraction of current available liquidity (cash plus Position.pl minus used margin). A value greater than or equal to 1 indicates an absolute number of units.\n",
    "\n",
    "            # print(\"Trade here.\")\n",
    "        elif cur_stm < 0:\n",
    "            self.sell(size=trade_size, sl=(1 + self.sl_pct) * cur_price, tp=(1 - self.tp_pct) * cur_price)\n",
    "            # print(\"Trade here.\")\n",
    "        elif (cur_stm == 0):\n",
    "            pass\n",
    "            # print(\"No trade.\")\n",
    "        # print(cur_stm)\n",
    "\n",
    "merge_path = root_dir.joinpath('data', 'proc', f'BA_merged_{BT_START_STR}_{BT_END_STR}.csv') \n",
    "merged2 = pd.read_csv(merge_path, index_col=False)\n",
    "\n",
    "# Running the backtest\n",
    "bt = Backtest(data=merged2, \n",
    "              strategy=SimpleStmStrat, \n",
    "              cash=10000, \n",
    "              margin=1,\n",
    "              commission=.0,\n",
    "              trade_on_close=False,\n",
    "              hedging=True\n",
    "              ) # TODO: Adjust commission\n",
    "results, returns = bt.run(col='cln_hdl_pol_stc_score')\n",
    "\n",
    "display(results)\n",
    "print(type(returns))\n",
    "display(returns)\n",
    "bt.plot(results=results, plot_return=True) # TODO: Can have filename, plot in html\n",
    "\n",
    "# These are the main results that we need\n",
    "print(results.get('Return [%]'), results.get('Max. Drawdown [%]'), results.get('# Trades'), results.get('Win Rate [%]'))\n"
   ]
  },
  {
   "cell_type": "markdown",
   "metadata": {},
   "source": [
    "# Code"
   ]
  },
  {
   "cell_type": "code",
   "execution_count": null,
   "metadata": {},
   "outputs": [],
   "source": [
    "hist_start = pd.to_datetime('2023-08-09') # Historical start date\n",
    "hist_end = pd.to_datetime('2023-12-14')\n",
    "# Define the ticker list\n",
    "ticker_list = ['BA']\n",
    "\n",
    "# Fetch the data\n",
    "dl_data = yf.download(ticker_list, start=hist_start, end=hist_end) # Auto adjust is false\n"
   ]
  },
  {
   "cell_type": "code",
   "execution_count": null,
   "metadata": {},
   "outputs": [],
   "source": [
    "data = dl_data['Adj Close']\n",
    "data = pd.DataFrame(data)\n",
    "data = data.rename(columns={'Adj Close': 'BA'})\n",
    "display(data.isna().sum())\n",
    "data.index = pd.to_datetime(data.index)\n",
    "display(data.tail(20))\n",
    "\n"
   ]
  },
  {
   "cell_type": "code",
   "execution_count": null,
   "metadata": {},
   "outputs": [],
   "source": [
    "boeing = yf.Ticker('BA')\n",
    "boeing.news\n",
    "\n",
    "# yfinance doesn't provide a lot of news"
   ]
  },
  {
   "cell_type": "markdown",
   "metadata": {},
   "source": [
    "- Assumption\n",
    "    - Uses all historical data to calculate the drift and standard deviation"
   ]
  },
  {
   "cell_type": "code",
   "execution_count": null,
   "metadata": {},
   "outputs": [],
   "source": [
    "# Calculate log returns for the entire dataframe\n",
    "log_returns = np.log(data / data.shift(1))\n",
    "\n",
    "# Drop NaN values from log returns\n",
    "log_returns.dropna(inplace=True)\n",
    "\n",
    "display(log_returns)\n",
    "\n",
    "# Calculate the drift\n",
    "BA_mu = np.mean(log_returns)\n",
    "\n",
    "# Calculate the volatility (standard deviation of log returns), returns a series\n",
    "BA_vol =  np.std(log_returns)['BA']\n",
    "\n",
    "\n",
    "display(data)\n",
    "print(f\"BA_mu, BA_vol: {BA_mu}, {BA_vol}\")"
   ]
  },
  {
   "cell_type": "markdown",
   "metadata": {},
   "source": [
    "- Assumption\n",
    "    - Never take out holidays\n",
    "    - Assumed interest rate is 0.0175"
   ]
  },
  {
   "cell_type": "code",
   "execution_count": null,
   "metadata": {},
   "outputs": [],
   "source": [
    "def simulate_gbm(S0, mu, sigma, T, dt, N):\n",
    "    \"\"\"\n",
    "    Simulate stock prices using Geometric Brownian Motion.\n",
    "    \n",
    "    Parameters:\n",
    "    S0 (float): Initial stock price\n",
    "    mu (float): Expected return\n",
    "    sigma (float): Volatility\n",
    "    T (float): Time horizon in years\n",
    "    dt (float): Time step\n",
    "    N (int): Number of simulations\n",
    "    \n",
    "    Returns:\n",
    "    DataFrame: Simulated stock price paths\n",
    "    \"\"\"\n",
    "    time_steps = int(T / dt)\n",
    "    stock_paths = np.zeros((time_steps + 1, N))\n",
    "    stock_paths[0] = S0\n",
    "\n",
    "    for t in range(1, time_steps + 1):\n",
    "        Z = np.random.standard_normal(N)\n",
    "        stock_paths[t] = stock_paths[t - 1] * np.exp((0.0175 - 0.5 * sigma**2) * dt + sigma * np.sqrt(dt) * Z)\n",
    "\n",
    "    return pd.DataFrame(stock_paths)\n",
    "\n",
    "# GBM parameters (example values, you should estimate these from real data)\n",
    "S0 = data['BA'].iloc[-1] # Initial stock price\n",
    "mu = BA_mu # Expected return\n",
    "sigma = BA_vol # Volatility\n",
    "T = 0.1 # Time horizon in years\n",
    "dt = 1/252 # Daily time step\n",
    "N = 10 # Number of simulations\n",
    "\n",
    "simulated_data = simulate_gbm(S0, mu, sigma, T, dt, N)\n",
    "display(simulated_data)\n",
    "\n",
    "mean_sim_data = np.mean(simulated_data, axis=1)\n",
    "display(mean_sim_data)\n",
    "# Plotting the simulated stock price paths\n",
    "plt.figure(figsize=(10,6))\n",
    "plt.plot(mean_sim_data)\n",
    "plt.title('GBM - Simulated Stock Price Paths')\n",
    "plt.xlabel('Time Steps')\n",
    "plt.ylabel('Stock Price')\n",
    "plt.show()"
   ]
  },
  {
   "cell_type": "markdown",
   "metadata": {},
   "source": []
  },
  {
   "cell_type": "code",
   "execution_count": null,
   "metadata": {},
   "outputs": [],
   "source": [
    "import pandas as pd\n",
    "data = {\n",
    "    'cat': [5, 5, 6, 6],\n",
    "    'val': [2, 3, 0, 1]\n",
    "}\n",
    "df = pd.DataFrame(data)\n",
    "df"
   ]
  },
  {
   "cell_type": "code",
   "execution_count": null,
   "metadata": {},
   "outputs": [],
   "source": [
    "def custom_agg(grp):\n",
    "    combined = grp[grp['val'] > 0].mean()\n",
    "    return combined\n",
    "\n",
    "df.groupby('cat').apply(custom_agg)"
   ]
  }
 ],
 "metadata": {
  "kernelspec": {
   "display_name": "Python 3",
   "language": "python",
   "name": "python3"
  },
  "language_info": {
   "codemirror_mode": {
    "name": "ipython",
    "version": 3
   },
   "file_extension": ".py",
   "mimetype": "text/x-python",
   "name": "python",
   "nbconvert_exporter": "python",
   "pygments_lexer": "ipython3",
   "version": "3.11.3"
  }
 },
 "nbformat": 4,
 "nbformat_minor": 2
}
